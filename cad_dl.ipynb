{
  "cells": [
    {
      "cell_type": "code",
      "execution_count": 1,
      "metadata": {
        "colab": {
          "base_uri": "https://localhost:8080/"
        },
        "id": "uWw4h68S2CBT",
        "outputId": "f32b81f0-d323-48a8-fc9b-79f75170351c"
      },
      "outputs": [
        {
          "name": "stdout",
          "output_type": "stream",
          "text": [
            "Wed Dec 20 21:25:37 2023       \n",
            "+---------------------------------------------------------------------------------------+\n",
            "| NVIDIA-SMI 546.33                 Driver Version: 546.33       CUDA Version: 12.3     |\n",
            "|-----------------------------------------+----------------------+----------------------+\n",
            "| GPU  Name                     TCC/WDDM  | Bus-Id        Disp.A | Volatile Uncorr. ECC |\n",
            "| Fan  Temp   Perf          Pwr:Usage/Cap |         Memory-Usage | GPU-Util  Compute M. |\n",
            "|                                         |                      |               MIG M. |\n",
            "|=========================================+======================+======================|\n",
            "|   0  NVIDIA GeForce RTX 4060      WDDM  | 00000000:01:00.0  On |                  N/A |\n",
            "|  0%   37C    P8              N/A / 115W |   1124MiB /  8188MiB |      0%      Default |\n",
            "|                                         |                      |                  N/A |\n",
            "+-----------------------------------------+----------------------+----------------------+\n",
            "                                                                                         \n",
            "+---------------------------------------------------------------------------------------+\n",
            "| Processes:                                                                            |\n",
            "|  GPU   GI   CI        PID   Type   Process name                            GPU Memory |\n",
            "|        ID   ID                                                             Usage      |\n",
            "|=======================================================================================|\n",
            "|    0   N/A  N/A       524    C+G   ...5n1h2txyewy\\ShellExperienceHost.exe    N/A      |\n",
            "|    0   N/A  N/A      2860    C+G   ...ager\\Mendeley Reference Manager.exe    N/A      |\n",
            "|    0   N/A  N/A      6088    C+G   ...crosoft\\Edge\\Application\\msedge.exe    N/A      |\n",
            "|    0   N/A  N/A     10152    C+G   ...2.0_x64__cv1g1gvanyjgm\\WhatsApp.exe    N/A      |\n",
            "|    0   N/A  N/A     13268    C+G   ...Programs\\Microsoft VS Code\\Code.exe    N/A      |\n",
            "|    0   N/A  N/A     13572    C+G   ...nt.CBS_cw5n1h2txyewy\\SearchHost.exe    N/A      |\n",
            "|    0   N/A  N/A     13764    C+G   ...CBS_cw5n1h2txyewy\\TextInputHost.exe    N/A      |\n",
            "|    0   N/A  N/A     14600    C+G   ...2txyewy\\StartMenuExperienceHost.exe    N/A      |\n",
            "|    0   N/A  N/A     15220    C+G   C:\\Windows\\explorer.exe                   N/A      |\n",
            "|    0   N/A  N/A     15560    C+G   ...on\\120.0.2210.77\\msedgewebview2.exe    N/A      |\n",
            "|    0   N/A  N/A     16668    C+G   ...GeForce Experience\\NVIDIA Share.exe    N/A      |\n",
            "|    0   N/A  N/A     18584    C+G   ...\\cef\\cef.win7x64\\steamwebhelper.exe    N/A      |\n",
            "|    0   N/A  N/A     19768    C+G   ...siveControlPanel\\SystemSettings.exe    N/A      |\n",
            "|    0   N/A  N/A     19880    C+G   ...t.LockApp_cw5n1h2txyewy\\LockApp.exe    N/A      |\n",
            "+---------------------------------------------------------------------------------------+\n"
          ]
        }
      ],
      "source": [
        "gpu_info = !nvidia-smi\n",
        "gpu_info = '\\n'.join(gpu_info)\n",
        "if gpu_info.find('failed') >= 0:\n",
        "  print('Not connected to a GPU')\n",
        "else:\n",
        "  print(gpu_info)"
      ]
    },
    {
      "cell_type": "code",
      "execution_count": 2,
      "metadata": {
        "colab": {
          "base_uri": "https://localhost:8080/"
        },
        "id": "PPb2P1JSitaz",
        "outputId": "f0922617-73cc-44c2-d849-09f041cbcf40"
      },
      "outputs": [
        {
          "name": "stdout",
          "output_type": "stream",
          "text": [
            "Requirement already satisfied: matplotlib in c:\\users\\enrique\\desktop\\udg\\cad\\project\\cad_dl\\.venv\\lib\\site-packages (3.8.2)\n",
            "Requirement already satisfied: contourpy>=1.0.1 in c:\\users\\enrique\\desktop\\udg\\cad\\project\\cad_dl\\.venv\\lib\\site-packages (from matplotlib) (1.2.0)\n",
            "Requirement already satisfied: cycler>=0.10 in c:\\users\\enrique\\desktop\\udg\\cad\\project\\cad_dl\\.venv\\lib\\site-packages (from matplotlib) (0.12.1)\n",
            "Requirement already satisfied: fonttools>=4.22.0 in c:\\users\\enrique\\desktop\\udg\\cad\\project\\cad_dl\\.venv\\lib\\site-packages (from matplotlib) (4.47.0)\n",
            "Requirement already satisfied: kiwisolver>=1.3.1 in c:\\users\\enrique\\desktop\\udg\\cad\\project\\cad_dl\\.venv\\lib\\site-packages (from matplotlib) (1.4.5)\n",
            "Requirement already satisfied: numpy<2,>=1.21 in c:\\users\\enrique\\desktop\\udg\\cad\\project\\cad_dl\\.venv\\lib\\site-packages (from matplotlib) (1.26.2)\n",
            "Requirement already satisfied: packaging>=20.0 in c:\\users\\enrique\\desktop\\udg\\cad\\project\\cad_dl\\.venv\\lib\\site-packages (from matplotlib) (23.2)\n",
            "Requirement already satisfied: pillow>=8 in c:\\users\\enrique\\desktop\\udg\\cad\\project\\cad_dl\\.venv\\lib\\site-packages (from matplotlib) (10.1.0)\n",
            "Requirement already satisfied: pyparsing>=2.3.1 in c:\\users\\enrique\\desktop\\udg\\cad\\project\\cad_dl\\.venv\\lib\\site-packages (from matplotlib) (3.1.1)\n",
            "Requirement already satisfied: python-dateutil>=2.7 in c:\\users\\enrique\\desktop\\udg\\cad\\project\\cad_dl\\.venv\\lib\\site-packages (from matplotlib) (2.8.2)\n",
            "Requirement already satisfied: six>=1.5 in c:\\users\\enrique\\desktop\\udg\\cad\\project\\cad_dl\\.venv\\lib\\site-packages (from python-dateutil>=2.7->matplotlib) (1.16.0)\n",
            "Requirement already satisfied: numpy in c:\\users\\enrique\\desktop\\udg\\cad\\project\\cad_dl\\.venv\\lib\\site-packages (1.26.2)\n",
            "Requirement already satisfied: pandas in c:\\users\\enrique\\desktop\\udg\\cad\\project\\cad_dl\\.venv\\lib\\site-packages (2.1.4)\n",
            "Requirement already satisfied: numpy<2,>=1.23.2 in c:\\users\\enrique\\desktop\\udg\\cad\\project\\cad_dl\\.venv\\lib\\site-packages (from pandas) (1.26.2)\n",
            "Requirement already satisfied: python-dateutil>=2.8.2 in c:\\users\\enrique\\desktop\\udg\\cad\\project\\cad_dl\\.venv\\lib\\site-packages (from pandas) (2.8.2)\n",
            "Requirement already satisfied: pytz>=2020.1 in c:\\users\\enrique\\desktop\\udg\\cad\\project\\cad_dl\\.venv\\lib\\site-packages (from pandas) (2023.3.post1)\n",
            "Requirement already satisfied: tzdata>=2022.1 in c:\\users\\enrique\\desktop\\udg\\cad\\project\\cad_dl\\.venv\\lib\\site-packages (from pandas) (2023.3)\n",
            "Requirement already satisfied: six>=1.5 in c:\\users\\enrique\\desktop\\udg\\cad\\project\\cad_dl\\.venv\\lib\\site-packages (from python-dateutil>=2.8.2->pandas) (1.16.0)\n",
            "Requirement already satisfied: scikit-learn in c:\\users\\enrique\\desktop\\udg\\cad\\project\\cad_dl\\.venv\\lib\\site-packages (1.3.2)\n",
            "Requirement already satisfied: numpy<2.0,>=1.17.3 in c:\\users\\enrique\\desktop\\udg\\cad\\project\\cad_dl\\.venv\\lib\\site-packages (from scikit-learn) (1.26.2)\n",
            "Requirement already satisfied: scipy>=1.5.0 in c:\\users\\enrique\\desktop\\udg\\cad\\project\\cad_dl\\.venv\\lib\\site-packages (from scikit-learn) (1.11.4)\n",
            "Requirement already satisfied: joblib>=1.1.1 in c:\\users\\enrique\\desktop\\udg\\cad\\project\\cad_dl\\.venv\\lib\\site-packages (from scikit-learn) (1.3.2)\n",
            "Requirement already satisfied: threadpoolctl>=2.0.0 in c:\\users\\enrique\\desktop\\udg\\cad\\project\\cad_dl\\.venv\\lib\\site-packages (from scikit-learn) (3.2.0)\n",
            "Requirement already satisfied: torchvision in c:\\users\\enrique\\desktop\\udg\\cad\\project\\cad_dl\\.venv\\lib\\site-packages (0.16.2)\n",
            "Requirement already satisfied: numpy in c:\\users\\enrique\\desktop\\udg\\cad\\project\\cad_dl\\.venv\\lib\\site-packages (from torchvision) (1.26.2)\n",
            "Requirement already satisfied: requests in c:\\users\\enrique\\desktop\\udg\\cad\\project\\cad_dl\\.venv\\lib\\site-packages (from torchvision) (2.31.0)\n",
            "Requirement already satisfied: torch==2.1.2 in c:\\users\\enrique\\desktop\\udg\\cad\\project\\cad_dl\\.venv\\lib\\site-packages (from torchvision) (2.1.2)\n",
            "Requirement already satisfied: pillow!=8.3.*,>=5.3.0 in c:\\users\\enrique\\desktop\\udg\\cad\\project\\cad_dl\\.venv\\lib\\site-packages (from torchvision) (10.1.0)\n",
            "Requirement already satisfied: filelock in c:\\users\\enrique\\desktop\\udg\\cad\\project\\cad_dl\\.venv\\lib\\site-packages (from torch==2.1.2->torchvision) (3.13.1)\n",
            "Requirement already satisfied: typing-extensions in c:\\users\\enrique\\desktop\\udg\\cad\\project\\cad_dl\\.venv\\lib\\site-packages (from torch==2.1.2->torchvision) (4.9.0)\n",
            "Requirement already satisfied: sympy in c:\\users\\enrique\\desktop\\udg\\cad\\project\\cad_dl\\.venv\\lib\\site-packages (from torch==2.1.2->torchvision) (1.12)\n",
            "Requirement already satisfied: networkx in c:\\users\\enrique\\desktop\\udg\\cad\\project\\cad_dl\\.venv\\lib\\site-packages (from torch==2.1.2->torchvision) (3.2.1)\n",
            "Requirement already satisfied: jinja2 in c:\\users\\enrique\\desktop\\udg\\cad\\project\\cad_dl\\.venv\\lib\\site-packages (from torch==2.1.2->torchvision) (3.1.2)\n",
            "Requirement already satisfied: fsspec in c:\\users\\enrique\\desktop\\udg\\cad\\project\\cad_dl\\.venv\\lib\\site-packages (from torch==2.1.2->torchvision) (2023.12.2)\n",
            "Requirement already satisfied: charset-normalizer<4,>=2 in c:\\users\\enrique\\desktop\\udg\\cad\\project\\cad_dl\\.venv\\lib\\site-packages (from requests->torchvision) (3.3.2)\n",
            "Requirement already satisfied: idna<4,>=2.5 in c:\\users\\enrique\\desktop\\udg\\cad\\project\\cad_dl\\.venv\\lib\\site-packages (from requests->torchvision) (3.6)\n",
            "Requirement already satisfied: urllib3<3,>=1.21.1 in c:\\users\\enrique\\desktop\\udg\\cad\\project\\cad_dl\\.venv\\lib\\site-packages (from requests->torchvision) (2.1.0)\n",
            "Requirement already satisfied: certifi>=2017.4.17 in c:\\users\\enrique\\desktop\\udg\\cad\\project\\cad_dl\\.venv\\lib\\site-packages (from requests->torchvision) (2023.11.17)\n",
            "Requirement already satisfied: MarkupSafe>=2.0 in c:\\users\\enrique\\desktop\\udg\\cad\\project\\cad_dl\\.venv\\lib\\site-packages (from jinja2->torch==2.1.2->torchvision) (2.1.3)\n",
            "Requirement already satisfied: mpmath>=0.19 in c:\\users\\enrique\\desktop\\udg\\cad\\project\\cad_dl\\.venv\\lib\\site-packages (from sympy->torch==2.1.2->torchvision) (1.3.0)\n",
            "Requirement already satisfied: tqdm in c:\\users\\enrique\\desktop\\udg\\cad\\project\\cad_dl\\.venv\\lib\\site-packages (4.66.1)\n",
            "Requirement already satisfied: colorama in c:\\users\\enrique\\desktop\\udg\\cad\\project\\cad_dl\\.venv\\lib\\site-packages (from tqdm) (0.4.6)\n",
            "Requirement already satisfied: wandb in c:\\users\\enrique\\desktop\\udg\\cad\\project\\cad_dl\\.venv\\lib\\site-packages (0.16.1)\n",
            "Requirement already satisfied: Click!=8.0.0,>=7.1 in c:\\users\\enrique\\desktop\\udg\\cad\\project\\cad_dl\\.venv\\lib\\site-packages (from wandb) (8.1.7)\n",
            "Requirement already satisfied: GitPython!=3.1.29,>=1.0.0 in c:\\users\\enrique\\desktop\\udg\\cad\\project\\cad_dl\\.venv\\lib\\site-packages (from wandb) (3.1.40)\n",
            "Requirement already satisfied: requests<3,>=2.0.0 in c:\\users\\enrique\\desktop\\udg\\cad\\project\\cad_dl\\.venv\\lib\\site-packages (from wandb) (2.31.0)\n",
            "Requirement already satisfied: psutil>=5.0.0 in c:\\users\\enrique\\desktop\\udg\\cad\\project\\cad_dl\\.venv\\lib\\site-packages (from wandb) (5.9.7)\n",
            "Requirement already satisfied: sentry-sdk>=1.0.0 in c:\\users\\enrique\\desktop\\udg\\cad\\project\\cad_dl\\.venv\\lib\\site-packages (from wandb) (1.39.1)\n",
            "Requirement already satisfied: docker-pycreds>=0.4.0 in c:\\users\\enrique\\desktop\\udg\\cad\\project\\cad_dl\\.venv\\lib\\site-packages (from wandb) (0.4.0)\n",
            "Requirement already satisfied: PyYAML in c:\\users\\enrique\\desktop\\udg\\cad\\project\\cad_dl\\.venv\\lib\\site-packages (from wandb) (6.0.1)\n",
            "Requirement already satisfied: setproctitle in c:\\users\\enrique\\desktop\\udg\\cad\\project\\cad_dl\\.venv\\lib\\site-packages (from wandb) (1.3.3)\n",
            "Requirement already satisfied: setuptools in c:\\users\\enrique\\desktop\\udg\\cad\\project\\cad_dl\\.venv\\lib\\site-packages (from wandb) (65.5.0)\n",
            "Requirement already satisfied: appdirs>=1.4.3 in c:\\users\\enrique\\desktop\\udg\\cad\\project\\cad_dl\\.venv\\lib\\site-packages (from wandb) (1.4.4)\n",
            "Requirement already satisfied: protobuf!=4.21.0,<5,>=3.19.0 in c:\\users\\enrique\\desktop\\udg\\cad\\project\\cad_dl\\.venv\\lib\\site-packages (from wandb) (4.25.1)\n",
            "Requirement already satisfied: colorama in c:\\users\\enrique\\desktop\\udg\\cad\\project\\cad_dl\\.venv\\lib\\site-packages (from Click!=8.0.0,>=7.1->wandb) (0.4.6)\n",
            "Requirement already satisfied: six>=1.4.0 in c:\\users\\enrique\\desktop\\udg\\cad\\project\\cad_dl\\.venv\\lib\\site-packages (from docker-pycreds>=0.4.0->wandb) (1.16.0)\n",
            "Requirement already satisfied: gitdb<5,>=4.0.1 in c:\\users\\enrique\\desktop\\udg\\cad\\project\\cad_dl\\.venv\\lib\\site-packages (from GitPython!=3.1.29,>=1.0.0->wandb) (4.0.11)\n",
            "Requirement already satisfied: charset-normalizer<4,>=2 in c:\\users\\enrique\\desktop\\udg\\cad\\project\\cad_dl\\.venv\\lib\\site-packages (from requests<3,>=2.0.0->wandb) (3.3.2)\n",
            "Requirement already satisfied: idna<4,>=2.5 in c:\\users\\enrique\\desktop\\udg\\cad\\project\\cad_dl\\.venv\\lib\\site-packages (from requests<3,>=2.0.0->wandb) (3.6)\n",
            "Requirement already satisfied: urllib3<3,>=1.21.1 in c:\\users\\enrique\\desktop\\udg\\cad\\project\\cad_dl\\.venv\\lib\\site-packages (from requests<3,>=2.0.0->wandb) (2.1.0)\n",
            "Requirement already satisfied: certifi>=2017.4.17 in c:\\users\\enrique\\desktop\\udg\\cad\\project\\cad_dl\\.venv\\lib\\site-packages (from requests<3,>=2.0.0->wandb) (2023.11.17)\n",
            "Requirement already satisfied: smmap<6,>=3.0.1 in c:\\users\\enrique\\desktop\\udg\\cad\\project\\cad_dl\\.venv\\lib\\site-packages (from gitdb<5,>=4.0.1->GitPython!=3.1.29,>=1.0.0->wandb) (5.0.1)\n"
          ]
        }
      ],
      "source": [
        "!pip install torch>=1.9\n",
        "!pip install fastai>=2.7\n",
        "!pip install matplotlib\n",
        "!pip install numpy\n",
        "!pip install pandas\n",
        "!pip install scikit-learn\n",
        "!pip install torchvision\n",
        "!pip install tqdm\n",
        "!pip install wandb"
      ]
    },
    {
      "cell_type": "code",
      "execution_count": 3,
      "metadata": {
        "id": "cmzUsUCFe0NX"
      },
      "outputs": [],
      "source": [
        "WANDB_PROJECT = \"cad_dl\"\n",
        "ENTITY = \"iconet\" # set this to team name if working in a team\n",
        "\n",
        "RAW_DATA_AT = 'skin_data'\n",
        "PROCESSED_DATA_AT = 'skin_data_proc'"
      ]
    },
    {
      "cell_type": "code",
      "execution_count": null,
      "metadata": {
        "id": "cLLh6-DtlW7e"
      },
      "outputs": [],
      "source": [
        "import wandb\n",
        "from sklearn.metrics import ConfusionMatrixDisplay\n",
        "from IPython.display import display, Markdown\n",
        "from fastai.vision.all import *\n",
        "import pandas as pd\n",
        "from fastai.callback.wandb import WandbCallback\n",
        "import cv2"
      ]
    },
    {
      "cell_type": "markdown",
      "metadata": {
        "id": "x5RAPxC4jKgU"
      },
      "source": [
        "# EDA (Exploratory Data Analysis)"
      ]
    },
    {
      "cell_type": "markdown",
      "metadata": {
        "id": "wFcGw8Csi6xT"
      },
      "source": [
        "In this notebook, we will download the given dataset and use W&B Artifacts and Tables to version and analyze our data"
      ]
    },
    {
      "cell_type": "code",
      "execution_count": null,
      "metadata": {
        "id": "pc95KvKoi9I_"
      },
      "outputs": [],
      "source": [
        "DEBUG = False # set this flag to True to use a small subset of data for testing"
      ]
    },
    {
      "cell_type": "code",
      "execution_count": null,
      "metadata": {
        "id": "v-NyjIx0jYNT"
      },
      "outputs": [],
      "source": [
        "URL_TRAINING = 'http://dixie.udg.edu/CAD2022/Chall1/train.tgz'"
      ]
    },
    {
      "cell_type": "code",
      "execution_count": null,
      "metadata": {
        "id": "lmeOi8xEktjI"
      },
      "outputs": [],
      "source": [
        "path_training = Path(untar_data(URL_TRAINING, force_download=True))"
      ]
    },
    {
      "cell_type": "code",
      "execution_count": null,
      "metadata": {
        "id": "lwPMrtuvlA5e"
      },
      "outputs": [],
      "source": [
        "path_training.ls()"
      ]
    },
    {
      "cell_type": "code",
      "execution_count": null,
      "metadata": {
        "id": "nobxZjArlC-M"
      },
      "outputs": [],
      "source": [
        "URL_VAL = 'http://dixie.udg.edu/CAD2022/Chall1/val.tgz'"
      ]
    },
    {
      "cell_type": "code",
      "execution_count": null,
      "metadata": {
        "id": "z7WiGBkYlKdi"
      },
      "outputs": [],
      "source": [
        "path_val = Path(untar_data(URL_VAL, force_download=True))"
      ]
    },
    {
      "cell_type": "code",
      "execution_count": null,
      "metadata": {
        "id": "drc86UL2lTHb"
      },
      "outputs": [],
      "source": [
        "path_val.ls()"
      ]
    },
    {
      "cell_type": "code",
      "execution_count": null,
      "metadata": {
        "id": "FG1IdWXxfpNQ"
      },
      "outputs": [],
      "source": [
        "URL_TEST = 'http://dixie.udg.edu/CAD2022/Chall1/test.tgz'"
      ]
    },
    {
      "cell_type": "code",
      "execution_count": null,
      "metadata": {
        "id": "SswEfD6agKQZ"
      },
      "outputs": [],
      "source": [
        "path_test = Path(untar_data(URL_TEST, force_download=True))"
      ]
    },
    {
      "cell_type": "code",
      "execution_count": null,
      "metadata": {
        "id": "sZfxKggwgYla"
      },
      "outputs": [],
      "source": [
        "path_test.ls()"
      ]
    },
    {
      "cell_type": "code",
      "execution_count": null,
      "metadata": {
        "id": "FkM7tUyHg1T5"
      },
      "outputs": [],
      "source": [
        "def label_func(fname):\n",
        "    if fname.name.startswith(\"nev\"):\n",
        "        return 0\n",
        "    elif fname.name.startswith(\"xxx\"):\n",
        "        return \"None\"\n",
        "    else:\n",
        "        return 1\n",
        "\n",
        "def _create_table(image_files, image_files_test=None, image_files_val=None):\n",
        "    \"Create a table with the dataset\"\n",
        "    table = wandb.Table(columns=[\"File_Name\", \"Images\", \"Split\", \"Label\"])\n",
        "\n",
        "    for i, image_file in progress_bar(enumerate(image_files), total=len(image_files)):\n",
        "      image = Image.open(image_file)\n",
        "      label_train = label_func(image_file)\n",
        "      file_name_without_extension = os.path.splitext(image_file.name)[0]\n",
        "      table.add_data(\n",
        "          file_name_without_extension,\n",
        "          wandb.Image(\n",
        "              image\n",
        "              ),\n",
        "          \"None\", # we don't have a dataset split yet\n",
        "          label_train\n",
        "          )\n",
        "\n",
        "    if image_files_test is not None:\n",
        "        for i, image_file_test in progress_bar(enumerate(image_files_test), total=len(image_files_test)):\n",
        "          image_test = Image.open(image_file_test)\n",
        "          label_test = label_func(image_file_test)\n",
        "          file_name_without_extension_test = os.path.splitext(image_file_test.name)[0]\n",
        "          table.add_data(\n",
        "              file_name_without_extension_test,\n",
        "              wandb.Image(\n",
        "                  image_test\n",
        "                  ),\n",
        "              \"None\",\n",
        "              label_test\n",
        "              )\n",
        "\n",
        "    if image_files_val is not None:\n",
        "        for i, image_file_val in progress_bar(enumerate(image_files_val), total=len(image_files_val)):\n",
        "          image_val = Image.open(image_file_val)\n",
        "          label_val = label_func(image_file_val)\n",
        "          file_name_without_extension_val = os.path.splitext(image_file_val.name)[0]\n",
        "          table.add_data(\n",
        "              file_name_without_extension_val,\n",
        "              wandb.Image(\n",
        "                  image_val\n",
        "                  ),\n",
        "              \"None\",\n",
        "              label_val\n",
        "              )\n",
        "\n",
        "    return table"
      ]
    },
    {
      "cell_type": "code",
      "execution_count": null,
      "metadata": {
        "id": "1h-9ug3fvLe4"
      },
      "outputs": [],
      "source": [
        "run = wandb.init(project=WANDB_PROJECT, entity=ENTITY, job_type=\"upload\")"
      ]
    },
    {
      "cell_type": "code",
      "execution_count": null,
      "metadata": {
        "id": "FAKvn8VIiZvI"
      },
      "outputs": [],
      "source": [
        "raw_data_at = wandb.Artifact(RAW_DATA_AT, type=\"raw_data\")"
      ]
    },
    {
      "cell_type": "code",
      "execution_count": null,
      "metadata": {
        "id": "bdUuvbSz6_nY"
      },
      "outputs": [],
      "source": [
        "# raw_at = run.use_artifact(f'{RAW_DATA_AT}:latest')\n",
        "# path = Path(raw_at.download())"
      ]
    },
    {
      "cell_type": "code",
      "execution_count": null,
      "metadata": {
        "id": "OF-qCew9wd18"
      },
      "outputs": [],
      "source": [
        "raw_data_at.add_dir(path_training/'nevus', name='nevus_train_images')\n",
        "raw_data_at.add_dir(path_training/'others', name='others_train_images')\n",
        "\n",
        "\n",
        "raw_data_at.add_dir(path_val/'nevus', name='nevus_val_images')\n",
        "raw_data_at.add_dir(path_val/'others', name='others_val_images')\n",
        "\n"
      ]
    },
    {
      "cell_type": "code",
      "execution_count": null,
      "metadata": {
        "id": "IQr-cauliIGr"
      },
      "outputs": [],
      "source": [
        "raw_data_at.add_dir(path_test, name='xxx_test_images')"
      ]
    },
    {
      "cell_type": "code",
      "execution_count": null,
      "metadata": {
        "id": "8um_ovQlwwSp"
      },
      "outputs": [],
      "source": [
        "image_files_nevus = get_image_files(path_training/'nevus', recurse=False)\n",
        "image_files_others = get_image_files(path_training/'others', recurse=False)"
      ]
    },
    {
      "cell_type": "code",
      "execution_count": null,
      "metadata": {
        "id": "u_SH9EkTw0Lx"
      },
      "outputs": [],
      "source": [
        "image_files_val_nevus = get_image_files(path_val/'nevus', recurse=False)\n",
        "image_files_val_others = get_image_files(path_val/'others', recurse=False)"
      ]
    },
    {
      "cell_type": "code",
      "execution_count": null,
      "metadata": {
        "id": "CkjkZXG_8VaO"
      },
      "outputs": [],
      "source": [
        "image_files_test = get_image_files(path_test, recurse=False)"
      ]
    },
    {
      "cell_type": "code",
      "execution_count": null,
      "metadata": {
        "id": "ce0rb-xfxE1r"
      },
      "outputs": [],
      "source": [
        "table_train = _create_table(image_files_nevus, image_files_others)"
      ]
    },
    {
      "cell_type": "code",
      "execution_count": null,
      "metadata": {
        "id": "dCInIr1c4r-M"
      },
      "outputs": [],
      "source": [
        "table_val = _create_table(image_files_val_nevus, image_files_val_others)"
      ]
    },
    {
      "cell_type": "code",
      "execution_count": null,
      "metadata": {
        "id": "N6y_VEyB8gFr"
      },
      "outputs": [],
      "source": [
        "table_test = _create_table(image_files_test)"
      ]
    },
    {
      "cell_type": "code",
      "execution_count": null,
      "metadata": {
        "id": "8vC3id2sxLoX"
      },
      "outputs": [],
      "source": [
        "raw_data_at.add(table_train, \"raw_train_table\")\n",
        "raw_data_at.add(table_val, \"raw_val_table\")"
      ]
    },
    {
      "cell_type": "code",
      "execution_count": null,
      "metadata": {
        "id": "-UXFDFc3_kM-"
      },
      "outputs": [],
      "source": [
        "raw_data_at.add(table_test, \"raw_test_table\")"
      ]
    },
    {
      "cell_type": "code",
      "execution_count": null,
      "metadata": {
        "id": "ppudd04mxRkx"
      },
      "outputs": [],
      "source": [
        "run.log_artifact(raw_data_at)"
      ]
    },
    {
      "cell_type": "code",
      "execution_count": null,
      "metadata": {
        "id": "dN3K97F-xg6o"
      },
      "outputs": [],
      "source": [
        "run.finish()"
      ]
    },
    {
      "cell_type": "markdown",
      "metadata": {
        "id": "e6cc5437-1a17-4738-a3c7-f1959324f4ed"
      },
      "source": [
        "# Data preparation"
      ]
    },
    {
      "cell_type": "code",
      "execution_count": null,
      "metadata": {
        "id": "c8018ee4-8f0f-4e1d-a39d-d005bc9b4591"
      },
      "outputs": [],
      "source": [
        "import os, warnings\n",
        "import wandb\n",
        "\n",
        "import pandas as pd\n",
        "from fastai.vision.all import *\n",
        "from sklearn.model_selection import *\n",
        "\n",
        "\n",
        "warnings.filterwarnings('ignore')"
      ]
    },
    {
      "cell_type": "code",
      "execution_count": null,
      "metadata": {
        "id": "423709e6-1f8c-4b90-8a7b-6ed6c05492ca"
      },
      "outputs": [],
      "source": [
        "run = wandb.init(project=WANDB_PROJECT, entity=ENTITY, job_type=\"data_prep\")"
      ]
    },
    {
      "cell_type": "code",
      "execution_count": null,
      "metadata": {
        "id": "7841e7a1-188e-4021-9c2b-b662b7a13a08"
      },
      "outputs": [],
      "source": [
        "raw_data_at = run.use_artifact(f'{RAW_DATA_AT}:latest')\n",
        "path = Path(raw_data_at.download())"
      ]
    },
    {
      "cell_type": "code",
      "execution_count": null,
      "metadata": {
        "id": "160fcb5d-3a3b-40a6-b131-60b33ea3b530"
      },
      "outputs": [],
      "source": [
        "path.ls()"
      ]
    },
    {
      "cell_type": "code",
      "execution_count": null,
      "metadata": {
        "id": "156ac385-610f-43c8-ab3a-8ab91a1cbc06"
      },
      "outputs": [],
      "source": [
        "fnames_nevus = os.listdir(path/'nevus_train_images')\n",
        "fnames_others = os.listdir(path/'others_train_images')\n",
        "fnames_nevus_v = os.listdir(path/'nevus_val_images')\n",
        "fnames_others_v = os.listdir(path/'others_val_images')\n",
        "\n",
        "fnames_test = os.listdir(path/'xxx_test_images')\n",
        "\n",
        "#groups = [s.split('-')[0] for s in fnames]"
      ]
    },
    {
      "cell_type": "code",
      "execution_count": null,
      "metadata": {
        "id": "42d93918-c51e-4501-9b2a-9ea87ae1184a"
      },
      "outputs": [],
      "source": [
        "train_table = raw_data_at.get(\"raw_train_table\")"
      ]
    },
    {
      "cell_type": "code",
      "execution_count": null,
      "metadata": {
        "id": "IXJFQzyrhUGJ"
      },
      "outputs": [],
      "source": [
        "val_table = raw_data_at.get(\"raw_val_table\")"
      ]
    },
    {
      "cell_type": "code",
      "execution_count": null,
      "metadata": {
        "id": "9ECuTFRFEgRt"
      },
      "outputs": [],
      "source": [
        "test_table = raw_data_at.get(\"raw_test_table\")"
      ]
    },
    {
      "cell_type": "code",
      "execution_count": null,
      "metadata": {
        "id": "6a31eef6-725a-4eaa-9bb4-bec9aeaf4414"
      },
      "outputs": [],
      "source": [
        "y = train_table.get_column('Label')"
      ]
    },
    {
      "cell_type": "code",
      "execution_count": null,
      "metadata": {
        "id": "4VGpP2bBjSW3"
      },
      "outputs": [],
      "source": [
        "x = train_table.get_column('File_Name')"
      ]
    },
    {
      "cell_type": "code",
      "execution_count": null,
      "metadata": {
        "id": "Almab8bhE-ui"
      },
      "outputs": [],
      "source": [
        "x_val = val_table.get_column('File_Name')"
      ]
    },
    {
      "cell_type": "code",
      "execution_count": null,
      "metadata": {
        "id": "80YB7b8rNr54"
      },
      "outputs": [],
      "source": [
        "y_val = val_table.get_column('Label')"
      ]
    },
    {
      "cell_type": "code",
      "execution_count": null,
      "metadata": {
        "id": "EnYlS6lzRSrO"
      },
      "outputs": [],
      "source": [
        "x_test = test_table.get_column('File_Name')"
      ]
    },
    {
      "cell_type": "code",
      "execution_count": null,
      "metadata": {
        "id": "A1polM7FRW5u"
      },
      "outputs": [],
      "source": [
        "y_test = test_table.get_column('Label')"
      ]
    },
    {
      "cell_type": "code",
      "execution_count": null,
      "metadata": {
        "id": "1af79361-0aea-4ecd-bfaf-3bc034286cf5"
      },
      "outputs": [],
      "source": [
        "df = pd.DataFrame()\n",
        "df['File_Name'] = x"
      ]
    },
    {
      "cell_type": "code",
      "execution_count": null,
      "metadata": {
        "id": "LP6l74wQKlpF"
      },
      "outputs": [],
      "source": [
        "df[\"image_fname\"] = [f'{f}.jpg' for f in df.File_Name.values]\n",
        "df[\"Label\"] = y"
      ]
    },
    {
      "cell_type": "code",
      "execution_count": null,
      "metadata": {
        "id": "-e5Uhoo0kv8M"
      },
      "outputs": [],
      "source": [
        "df2 = pd.DataFrame()\n",
        "df2['File_Name'] = x_val"
      ]
    },
    {
      "cell_type": "code",
      "execution_count": null,
      "metadata": {
        "id": "ced2899d-dc7e-4769-92e5-f0eaf585a4cf"
      },
      "outputs": [],
      "source": [
        "df['Stage'] = 'train'"
      ]
    },
    {
      "cell_type": "code",
      "execution_count": null,
      "metadata": {
        "id": "lmjSWz01LtT9"
      },
      "outputs": [],
      "source": [
        "df2[\"image_fname\"] = [f'{f}.jpg' for f in df2.File_Name.values]\n",
        "df2[\"Label\"] = y_val"
      ]
    },
    {
      "cell_type": "code",
      "execution_count": null,
      "metadata": {
        "id": "1E-X_yigloUY"
      },
      "outputs": [],
      "source": [
        "df2['Stage'] = 'valid'"
      ]
    },
    {
      "cell_type": "code",
      "execution_count": null,
      "metadata": {
        "id": "N4NQ8KDfS1Cw"
      },
      "outputs": [],
      "source": [
        "df3 = pd.DataFrame()\n",
        "df3['File_Name'] = x_test"
      ]
    },
    {
      "cell_type": "code",
      "execution_count": null,
      "metadata": {
        "id": "69LS6tv-S7-8"
      },
      "outputs": [],
      "source": [
        "df3[\"image_fname\"] = [f'{f}.jpg' for f in df3.File_Name.values]\n",
        "df3[\"Label\"] = y_test"
      ]
    },
    {
      "cell_type": "code",
      "execution_count": null,
      "metadata": {
        "id": "2x2m6qsVTBsX"
      },
      "outputs": [],
      "source": [
        "df3['Stage'] = 'test'"
      ]
    },
    {
      "cell_type": "code",
      "execution_count": null,
      "metadata": {
        "id": "TOj0yAe7K8nZ"
      },
      "outputs": [],
      "source": [
        "frames = [df, df2, df3]\n",
        "\n",
        "result = pd.DataFrame()\n",
        "\n",
        "\n",
        "result = pd.concat(frames)"
      ]
    },
    {
      "cell_type": "code",
      "execution_count": null,
      "metadata": {
        "id": "RTj3G5YONqs1"
      },
      "outputs": [],
      "source": [
        "result = pd.concat([\n",
        "   df,\n",
        "   df2.rename(columns=dict(zip(df2.columns, df.columns)))\n",
        "]).sort_values(\"File_Name\")"
      ]
    },
    {
      "cell_type": "code",
      "execution_count": null,
      "metadata": {
        "id": "GVfmcIXaLEof"
      },
      "outputs": [],
      "source": [
        "result"
      ]
    },
    {
      "cell_type": "code",
      "execution_count": null,
      "metadata": {
        "id": "C16UQTpkTgRr"
      },
      "outputs": [],
      "source": [
        "result_final = pd.concat([\n",
        "   result,\n",
        "   df3.rename(columns=dict(zip(result.columns, df3.columns)))\n",
        "]).sort_values(\"File_Name\")"
      ]
    },
    {
      "cell_type": "code",
      "execution_count": null,
      "metadata": {
        "id": "r715RhYxTns_"
      },
      "outputs": [],
      "source": [
        "result_final"
      ]
    },
    {
      "cell_type": "code",
      "execution_count": null,
      "metadata": {
        "id": "3b322c8d-dab6-4f21-8b0b-22fac2de3aae"
      },
      "outputs": [],
      "source": [
        "result_final.to_csv('data.csv', index=False)"
      ]
    },
    {
      "cell_type": "code",
      "execution_count": null,
      "metadata": {
        "id": "kbc5JUanTwdl"
      },
      "outputs": [],
      "source": [
        "result.to_csv('train_val.csv', index=False)"
      ]
    },
    {
      "cell_type": "code",
      "execution_count": null,
      "metadata": {
        "id": "hJWXAMPoQcBX"
      },
      "outputs": [],
      "source": [
        "df.to_csv('train.csv', index=False)"
      ]
    },
    {
      "cell_type": "code",
      "execution_count": null,
      "metadata": {
        "id": "GaBvn1ytT2Up"
      },
      "outputs": [],
      "source": [
        "df2.to_csv('val.csv', index=False)"
      ]
    },
    {
      "cell_type": "code",
      "execution_count": null,
      "metadata": {
        "id": "SdekDPYOT6eS"
      },
      "outputs": [],
      "source": [
        "df3.to_csv('test.csv', index=False)"
      ]
    },
    {
      "cell_type": "code",
      "execution_count": null,
      "metadata": {
        "id": "7369b2a4-6c0b-44fb-8850-c8bfebd105ef"
      },
      "outputs": [],
      "source": [
        "processed_data_at = wandb.Artifact(PROCESSED_DATA_AT, type=\"csv_data\")"
      ]
    },
    {
      "cell_type": "code",
      "execution_count": null,
      "metadata": {
        "id": "b264b216-ef03-4417-88df-6fc27865c1f5"
      },
      "outputs": [],
      "source": [
        "processed_data_at.add_file('data.csv')\n",
        "processed_data_at.add_file('test.csv')\n",
        "processed_data_at.add_file('train.csv')\n",
        "processed_data_at.add_file('train_val.csv')\n",
        "processed_data_at.add_file('val.csv')\n",
        "processed_data_at.add(train_table, \"raw_train_table\")\n",
        "processed_data_at.add(val_table, \"raw_val_table\")\n",
        "processed_data_at.add(test_table, \"raw_test_table\")"
      ]
    },
    {
      "cell_type": "code",
      "execution_count": null,
      "metadata": {
        "id": "818a359a-6b54-4f65-b5d9-732bbe5eb91a"
      },
      "outputs": [],
      "source": [
        "result_table = wandb.Table(dataframe=result_final[['File_Name', 'image_fname', 'Stage']])"
      ]
    },
    {
      "cell_type": "code",
      "execution_count": null,
      "metadata": {
        "id": "1ilAMpMhYBe2"
      },
      "outputs": [],
      "source": [
        "processed_data_at.add(result_table, \"data_result_table\")"
      ]
    },
    {
      "cell_type": "code",
      "execution_count": null,
      "metadata": {
        "id": "1a6745c3-1ab6-4ebf-8f89-07d6da09fe65"
      },
      "outputs": [],
      "source": [
        "run.log_artifact(processed_data_at)\n",
        "run.finish()"
      ]
    },
    {
      "cell_type": "markdown",
      "metadata": {
        "id": "4723ae62-c55d-4c8f-9157-43c29189a2ff"
      },
      "source": [
        "# Baseline solution"
      ]
    },
    {
      "cell_type": "code",
      "execution_count": 4,
      "metadata": {
        "id": "wM2wqJ-tXVIc"
      },
      "outputs": [],
      "source": [
        "import wandb\n",
        "import pandas as pd\n",
        "import torchvision.models as tvmodels\n",
        "from fastai.vision.all import *\n",
        "from fastai.callback.wandb import WandbCallback"
      ]
    },
    {
      "cell_type": "code",
      "execution_count": 5,
      "metadata": {
        "id": "cff6b8ee"
      },
      "outputs": [],
      "source": [
        "train_config = SimpleNamespace(\n",
        "    framework=\"fastai\",\n",
        "    img_size=(128, 128),\n",
        "    batch_size=32,\n",
        "    augment=None, # use data augmentation\n",
        "    epochs=10,\n",
        "    lr=2e-3,\n",
        "    arch=\"resnet50\",\n",
        "    pretrained=True,  # whether to use pretrained encoder\n",
        "    seed=42,\n",
        ")"
      ]
    },
    {
      "cell_type": "code",
      "execution_count": 6,
      "metadata": {
        "id": "IP6kQvqB01LJ"
      },
      "outputs": [],
      "source": [
        "set_seed(train_config.seed, reproducible=True)"
      ]
    },
    {
      "cell_type": "code",
      "execution_count": 7,
      "metadata": {
        "colab": {
          "base_uri": "https://localhost:8080/",
          "height": 138
        },
        "id": "WUeusRpX02xo",
        "outputId": "dd8f4771-2bde-4153-f918-bad15d6e6f9d"
      },
      "outputs": [
        {
          "name": "stderr",
          "output_type": "stream",
          "text": [
            "Failed to detect the name of this notebook, you can set it manually with the WANDB_NOTEBOOK_NAME environment variable to enable code saving.\n"
          ]
        },
        {
          "name": "stderr",
          "output_type": "stream",
          "text": [
            "\u001b[34m\u001b[1mwandb\u001b[0m: Currently logged in as: \u001b[33menriquefvrc\u001b[0m (\u001b[33miconet\u001b[0m). Use \u001b[1m`wandb login --relogin`\u001b[0m to force relogin\n"
          ]
        },
        {
          "data": {
            "text/html": [
              "Tracking run with wandb version 0.16.1"
            ],
            "text/plain": [
              "<IPython.core.display.HTML object>"
            ]
          },
          "metadata": {},
          "output_type": "display_data"
        },
        {
          "data": {
            "text/html": [
              "Run data is saved locally in <code>c:\\Users\\Enrique\\Desktop\\Udg\\CAD\\Project\\cad_dl\\wandb\\run-20231220_212601-pf8blrrg</code>"
            ],
            "text/plain": [
              "<IPython.core.display.HTML object>"
            ]
          },
          "metadata": {},
          "output_type": "display_data"
        },
        {
          "data": {
            "text/html": [
              "Syncing run <strong><a href='https://wandb.ai/iconet/cad_dl/runs/pf8blrrg' target=\"_blank\">usual-rain-45</a></strong> to <a href='https://wandb.ai/iconet/cad_dl' target=\"_blank\">Weights & Biases</a> (<a href='https://wandb.me/run' target=\"_blank\">docs</a>)<br/>"
            ],
            "text/plain": [
              "<IPython.core.display.HTML object>"
            ]
          },
          "metadata": {},
          "output_type": "display_data"
        },
        {
          "data": {
            "text/html": [
              " View project at <a href='https://wandb.ai/iconet/cad_dl' target=\"_blank\">https://wandb.ai/iconet/cad_dl</a>"
            ],
            "text/plain": [
              "<IPython.core.display.HTML object>"
            ]
          },
          "metadata": {},
          "output_type": "display_data"
        },
        {
          "data": {
            "text/html": [
              " View run at <a href='https://wandb.ai/iconet/cad_dl/runs/pf8blrrg' target=\"_blank\">https://wandb.ai/iconet/cad_dl/runs/pf8blrrg</a>"
            ],
            "text/plain": [
              "<IPython.core.display.HTML object>"
            ]
          },
          "metadata": {},
          "output_type": "display_data"
        }
      ],
      "source": [
        "run = wandb.init(project=WANDB_PROJECT, entity=ENTITY, job_type=\"training\", config=train_config)"
      ]
    },
    {
      "cell_type": "code",
      "execution_count": null,
      "metadata": {
        "id": "cy1Rrh1c1CrS"
      },
      "outputs": [],
      "source": [
        "# processed_data_at = run.use_artifact(f'{PROCESSED_DATA_AT}:latest')\n",
        "# processed_dataset_dir = Path(processed_data_at.download())\n",
        "# df = pd.read_csv(processed_dataset_dir / 'data.csv')"
      ]
    },
    {
      "cell_type": "code",
      "execution_count": null,
      "metadata": {
        "id": "19n6tjqQ95iI"
      },
      "outputs": [],
      "source": [
        "# raw_data_at = run.use_artifact(f'{RAW_DATA_AT}:latest')\n",
        "# raw_dir = Path(raw_data_at.download())"
      ]
    },
    {
      "cell_type": "code",
      "execution_count": 8,
      "metadata": {
        "colab": {
          "base_uri": "https://localhost:8080/"
        },
        "id": "df839467",
        "outputId": "6627570a-d157-4544-b896-67b95f89666e"
      },
      "outputs": [
        {
          "name": "stderr",
          "output_type": "stream",
          "text": [
            "\u001b[34m\u001b[1mwandb\u001b[0m:   9 of 9 files downloaded.  \n"
          ]
        }
      ],
      "source": [
        "processed_data_at = wandb.use_artifact(f'{PROCESSED_DATA_AT}:latest')\n",
        "processed_dataset_dir = Path(processed_data_at.download())"
      ]
    },
    {
      "cell_type": "code",
      "execution_count": 19,
      "metadata": {
        "colab": {
          "base_uri": "https://localhost:8080/"
        },
        "id": "erlPP0CdfLJn",
        "outputId": "80f02a39-a66c-4ab5-8b09-e6171a52e32d"
      },
      "outputs": [
        {
          "name": "stderr",
          "output_type": "stream",
          "text": [
            "\u001b[34m\u001b[1mwandb\u001b[0m: Downloading large artifact skin_data:latest, 27383.12MB. 50615 files... \n",
            "\u001b[34m\u001b[1mwandb\u001b[0m:   50615 of 50615 files downloaded.  \n",
            "Done. 0:2:23.5\n"
          ]
        }
      ],
      "source": [
        "raw_data_at = wandb.use_artifact(f'{RAW_DATA_AT}:latest')\n",
        "path = Path(raw_data_at.download())"
      ]
    },
    {
      "cell_type": "code",
      "execution_count": 20,
      "metadata": {
        "id": "cB0TCz9ENeCk"
      },
      "outputs": [],
      "source": [
        "def get_df(processed_dataset_dir, is_test = False):\n",
        "  df = pd.read_csv(processed_dataset_dir / 'data.csv')\n",
        "\n",
        "  if not is_test:\n",
        "    df = df[df.Stage != 'test'].reset_index(drop=True)\n",
        "    df['is_valid'] = df.Stage == 'valid'\n",
        "  else:\n",
        "    df = df[df.Stage == 'test'].reset_index(drop=True)\n",
        "\n",
        "  df[\"Label\"] = [f'{f}' for f in df.Label.values]\n",
        "\n",
        "  return df"
      ]
    },
    {
      "cell_type": "code",
      "execution_count": 21,
      "metadata": {
        "id": "E9f-5MOZR-UO"
      },
      "outputs": [],
      "source": [
        "df = get_df(processed_dataset_dir, is_test = False)"
      ]
    },
    {
      "cell_type": "code",
      "execution_count": 22,
      "metadata": {
        "id": "yu6Yxxo-r7cU"
      },
      "outputs": [],
      "source": [
        "def find_image_path(file_name):\n",
        "    folders = ['nevus_train_images', 'others_train_images', 'nevus_val_images', 'others_val_images']\n",
        "\n",
        "    for folder in folders:\n",
        "        potential_path = path / folder / f'{file_name}.jpg'\n",
        "        if potential_path.exists():\n",
        "            return potential_path\n",
        "\n",
        "    return None  # If the path couldn't be determined\n",
        "\n",
        "# Apply the function to create a new column with the correct paths\n",
        "df[\"image_fname\"] = df[\"File_Name\"].apply(find_image_path)"
      ]
    },
    {
      "cell_type": "code",
      "execution_count": 20,
      "metadata": {
        "id": "obC4rRhAnDfN"
      },
      "outputs": [],
      "source": [
        "def get_data(df, bs=4, img_size=(128, 128), augment=True):\n",
        "    block = DataBlock(blocks=(ImageBlock, CategoryBlock),\n",
        "                  get_x=ColReader(\"image_fname\"),\n",
        "                  get_y=ColReader(\"Label\"),\n",
        "                  splitter=ColSplitter(),\n",
        "                  item_tfms=Resize(img_size),\n",
        "                  batch_tfms=aug_transforms() if augment else None,\n",
        "                 )\n",
        "    return block.dataloaders(df, bs=bs)"
      ]
    },
    {
      "cell_type": "code",
      "execution_count": 12,
      "metadata": {
        "id": "Q1Wj1A8PrqTZ"
      },
      "outputs": [],
      "source": [
        "def get_data(df, bs=4, img_size=(128, 128), augment=True):\n",
        "    block = DataBlock(blocks=(ImageBlock, CategoryBlock),\n",
        "                  get_x=ColReader(\"image_fname\"),\n",
        "                  get_y=ColReader(\"Label\"),\n",
        "                  splitter=ColSplitter(),\n",
        "                  item_tfms=Resize(img_size),\n",
        "                  batch_tfms=[aug_transforms() if augment else None, Normalize.from_stats(*imagenet_stats)]\n",
        "                 )\n",
        "    return block.dataloaders(df, bs=bs)"
      ]
    },
    {
      "cell_type": "code",
      "execution_count": 21,
      "metadata": {
        "id": "S7yqhCVC0X56"
      },
      "outputs": [],
      "source": [
        "config = wandb.config"
      ]
    },
    {
      "cell_type": "code",
      "execution_count": 22,
      "metadata": {
        "id": "i8gHDmvG0Znx"
      },
      "outputs": [
        {
          "name": "stderr",
          "output_type": "stream",
          "text": [
            "c:\\Users\\Enrique\\Desktop\\Udg\\CAD\\Project\\cad_dl\\.venv\\Lib\\site-packages\\fastai\\torch_core.py:263: UserWarning: 'has_mps' is deprecated, please use 'torch.backends.mps.is_built()'\n",
            "  return getattr(torch, 'has_mps', False)\n"
          ]
        }
      ],
      "source": [
        "dls = get_data(df, bs=config.batch_size, img_size=config.img_size, augment=config.augment)"
      ]
    },
    {
      "cell_type": "markdown",
      "metadata": {
        "id": "7dfe3c60-f4af-4e21-874d-13f119d03dd5"
      },
      "source": [
        "Let's train our model!"
      ]
    },
    {
      "cell_type": "code",
      "execution_count": 23,
      "metadata": {
        "id": "d6ec120e"
      },
      "outputs": [],
      "source": [
        "def log_final_metrics(learn):\n",
        "  scores = learn.validate()\n",
        "  metric_names = ['final_loss'] + [f'final_{x.name}' for x in learn.metrics]\n",
        "  final_results = {metric_names[i] : scores[i] for i in range(len(scores))}\n",
        "  for k,v in final_results.items():\n",
        "      wandb.summary[k] = v"
      ]
    },
    {
      "cell_type": "code",
      "execution_count": 24,
      "metadata": {
        "id": "GyjWA8JoXfbF"
      },
      "outputs": [],
      "source": [
        "def train(config=None):\n",
        "\n",
        "  # Initialize a new wandb run\n",
        "  with wandb.init(config=config):\n",
        "      # If called by wandb.agent, as below,\n",
        "      # this config will be set by Sweep Controller\n",
        "      config = wandb.config\n",
        "\n",
        "      set_seed(config.seed, reproducible=True)\n",
        "      run = wandb.init(project=WANDB_PROJECT, entity=ENTITY, job_type=\"training\", config=config)\n",
        "\n",
        "      # processed_dataset_dir = download_csv()\n",
        "      # df = get_df(processed_dataset_dir)\n",
        "\n",
        "\n",
        "\n",
        "      dls = get_data(df, bs=config.batch_size, img_size=config.img_size, augment=config.augment)\n",
        "\n",
        "      metrics = [Precision(), Recall(), F1Score(), MatthewsCorrCoef()]\n",
        "\n",
        "      learn = vision_learner(dls, arch=getattr(tvmodels, config.arch), pretrained=config.pretrained, metrics=metrics)\n",
        "\n",
        "\n",
        "      cbs = [WandbCallback(log_preds=True, log_model=True),\n",
        "              SaveModelCallback(fname=f'run-{wandb.run.id}-model', monitor='f1_score')]\n",
        "\n",
        "      #learn.lr_find(stop_div=False, num_it=200)\n",
        "      #learn.recorder.plot(suggestion=True)\n",
        "\n",
        "\n",
        "      learn.fit_one_cycle(config.epochs, config.lr, cbs=cbs)\n",
        "\n",
        "      log_final_metrics(learn)\n",
        "\n",
        "      wandb.finish()"
      ]
    },
    {
      "cell_type": "markdown",
      "metadata": {
        "id": "e5W2iil93dZ6"
      },
      "source": [
        "# Run the training"
      ]
    },
    {
      "cell_type": "code",
      "execution_count": 25,
      "metadata": {
        "id": "tJEKpa4Ss_eG"
      },
      "outputs": [
        {
          "data": {
            "text/html": [
              "Finishing last run (ID:87eyvd17) before initializing another..."
            ],
            "text/plain": [
              "<IPython.core.display.HTML object>"
            ]
          },
          "metadata": {},
          "output_type": "display_data"
        },
        {
          "data": {
            "text/html": [
              " View run <strong style=\"color:#cdcd00\">desert-hill-40</strong> at: <a href='https://wandb.ai/iconet/cad_dl/runs/87eyvd17' target=\"_blank\">https://wandb.ai/iconet/cad_dl/runs/87eyvd17</a><br/>Synced 5 W&B file(s), 0 media file(s), 0 artifact file(s) and 0 other file(s)"
            ],
            "text/plain": [
              "<IPython.core.display.HTML object>"
            ]
          },
          "metadata": {},
          "output_type": "display_data"
        },
        {
          "data": {
            "text/html": [
              "Find logs at: <code>.\\wandb\\run-20231220_211459-87eyvd17\\logs</code>"
            ],
            "text/plain": [
              "<IPython.core.display.HTML object>"
            ]
          },
          "metadata": {},
          "output_type": "display_data"
        },
        {
          "data": {
            "text/html": [
              "Successfully finished last run (ID:87eyvd17). Initializing new run:<br/>"
            ],
            "text/plain": [
              "<IPython.core.display.HTML object>"
            ]
          },
          "metadata": {},
          "output_type": "display_data"
        },
        {
          "data": {
            "text/html": [
              "Tracking run with wandb version 0.16.1"
            ],
            "text/plain": [
              "<IPython.core.display.HTML object>"
            ]
          },
          "metadata": {},
          "output_type": "display_data"
        },
        {
          "data": {
            "text/html": [
              "Run data is saved locally in <code>c:\\Users\\Enrique\\Desktop\\Udg\\CAD\\Project\\cad_dl\\wandb\\run-20231220_212334-y8hpyuht</code>"
            ],
            "text/plain": [
              "<IPython.core.display.HTML object>"
            ]
          },
          "metadata": {},
          "output_type": "display_data"
        },
        {
          "data": {
            "text/html": [
              "Syncing run <strong><a href='https://wandb.ai/iconet/Project/runs/y8hpyuht' target=\"_blank\">smooth-bird-1</a></strong> to <a href='https://wandb.ai/iconet/Project' target=\"_blank\">Weights & Biases</a> (<a href='https://wandb.me/run' target=\"_blank\">docs</a>)<br/>"
            ],
            "text/plain": [
              "<IPython.core.display.HTML object>"
            ]
          },
          "metadata": {},
          "output_type": "display_data"
        },
        {
          "data": {
            "text/html": [
              " View project at <a href='https://wandb.ai/iconet/Project' target=\"_blank\">https://wandb.ai/iconet/Project</a>"
            ],
            "text/plain": [
              "<IPython.core.display.HTML object>"
            ]
          },
          "metadata": {},
          "output_type": "display_data"
        },
        {
          "data": {
            "text/html": [
              " View run at <a href='https://wandb.ai/iconet/Project/runs/y8hpyuht' target=\"_blank\">https://wandb.ai/iconet/Project/runs/y8hpyuht</a>"
            ],
            "text/plain": [
              "<IPython.core.display.HTML object>"
            ]
          },
          "metadata": {},
          "output_type": "display_data"
        },
        {
          "data": {
            "text/html": [
              "Finishing last run (ID:y8hpyuht) before initializing another..."
            ],
            "text/plain": [
              "<IPython.core.display.HTML object>"
            ]
          },
          "metadata": {},
          "output_type": "display_data"
        },
        {
          "data": {
            "text/html": [
              " View run <strong style=\"color:#cdcd00\">smooth-bird-1</strong> at: <a href='https://wandb.ai/iconet/Project/runs/y8hpyuht' target=\"_blank\">https://wandb.ai/iconet/Project/runs/y8hpyuht</a><br/>Synced 4 W&B file(s), 0 media file(s), 0 artifact file(s) and 0 other file(s)"
            ],
            "text/plain": [
              "<IPython.core.display.HTML object>"
            ]
          },
          "metadata": {},
          "output_type": "display_data"
        },
        {
          "data": {
            "text/html": [
              "Find logs at: <code>.\\wandb\\run-20231220_212334-y8hpyuht\\logs</code>"
            ],
            "text/plain": [
              "<IPython.core.display.HTML object>"
            ]
          },
          "metadata": {},
          "output_type": "display_data"
        },
        {
          "data": {
            "text/html": [
              "Successfully finished last run (ID:y8hpyuht). Initializing new run:<br/>"
            ],
            "text/plain": [
              "<IPython.core.display.HTML object>"
            ]
          },
          "metadata": {},
          "output_type": "display_data"
        },
        {
          "data": {
            "text/html": [
              "Tracking run with wandb version 0.16.1"
            ],
            "text/plain": [
              "<IPython.core.display.HTML object>"
            ]
          },
          "metadata": {},
          "output_type": "display_data"
        },
        {
          "data": {
            "text/html": [
              "Run data is saved locally in <code>c:\\Users\\Enrique\\Desktop\\Udg\\CAD\\Project\\cad_dl\\wandb\\run-20231220_212340-gwpg3e0k</code>"
            ],
            "text/plain": [
              "<IPython.core.display.HTML object>"
            ]
          },
          "metadata": {},
          "output_type": "display_data"
        },
        {
          "data": {
            "text/html": [
              "Syncing run <strong><a href='https://wandb.ai/iconet/cad_dl/runs/gwpg3e0k' target=\"_blank\">dulcet-meadow-41</a></strong> to <a href='https://wandb.ai/iconet/cad_dl' target=\"_blank\">Weights & Biases</a> (<a href='https://wandb.me/run' target=\"_blank\">docs</a>)<br/>"
            ],
            "text/plain": [
              "<IPython.core.display.HTML object>"
            ]
          },
          "metadata": {},
          "output_type": "display_data"
        },
        {
          "data": {
            "text/html": [
              " View project at <a href='https://wandb.ai/iconet/cad_dl' target=\"_blank\">https://wandb.ai/iconet/cad_dl</a>"
            ],
            "text/plain": [
              "<IPython.core.display.HTML object>"
            ]
          },
          "metadata": {},
          "output_type": "display_data"
        },
        {
          "data": {
            "text/html": [
              " View run at <a href='https://wandb.ai/iconet/cad_dl/runs/gwpg3e0k' target=\"_blank\">https://wandb.ai/iconet/cad_dl/runs/gwpg3e0k</a>"
            ],
            "text/plain": [
              "<IPython.core.display.HTML object>"
            ]
          },
          "metadata": {},
          "output_type": "display_data"
        },
        {
          "name": "stderr",
          "output_type": "stream",
          "text": [
            "c:\\Users\\Enrique\\Desktop\\Udg\\CAD\\Project\\cad_dl\\.venv\\Lib\\site-packages\\fastai\\torch_core.py:263: UserWarning: 'has_mps' is deprecated, please use 'torch.backends.mps.is_built()'\n",
            "  return getattr(torch, 'has_mps', False)\n",
            "Traceback (most recent call last):\n",
            "  File \"C:\\Users\\Enrique\\AppData\\Local\\Temp\\ipykernel_15272\\2727373245.py\", line 19, in train\n",
            "    metrics = [Precision(), Recall(), Accuracy(), F1Score(), MatthewsCorrCoef()]\n",
            "                                      ^^^^^^^^\n",
            "NameError: name 'Accuracy' is not defined\n"
          ]
        },
        {
          "ename": "NameError",
          "evalue": "name 'Accuracy' is not defined",
          "output_type": "error",
          "traceback": [
            "\u001b[1;31m---------------------------------------------------------------------------\u001b[0m",
            "\u001b[1;31mNameError\u001b[0m                                 Traceback (most recent call last)",
            "Cell \u001b[1;32mIn[25], line 1\u001b[0m\n\u001b[1;32m----> 1\u001b[0m \u001b[43mtrain\u001b[49m\u001b[43m(\u001b[49m\u001b[43mtrain_config\u001b[49m\u001b[43m)\u001b[49m\n",
            "Cell \u001b[1;32mIn[24], line 19\u001b[0m, in \u001b[0;36mtrain\u001b[1;34m(config)\u001b[0m\n\u001b[0;32m     12\u001b[0m \u001b[38;5;66;03m# processed_dataset_dir = download_csv()\u001b[39;00m\n\u001b[0;32m     13\u001b[0m \u001b[38;5;66;03m# df = get_df(processed_dataset_dir)\u001b[39;00m\n\u001b[0;32m     17\u001b[0m dls \u001b[38;5;241m=\u001b[39m get_data(df, bs\u001b[38;5;241m=\u001b[39mconfig\u001b[38;5;241m.\u001b[39mbatch_size, img_size\u001b[38;5;241m=\u001b[39mconfig\u001b[38;5;241m.\u001b[39mimg_size, augment\u001b[38;5;241m=\u001b[39mconfig\u001b[38;5;241m.\u001b[39maugment)\n\u001b[1;32m---> 19\u001b[0m metrics \u001b[38;5;241m=\u001b[39m [Precision(), Recall(), \u001b[43mAccuracy\u001b[49m(), F1Score(), MatthewsCorrCoef()]\n\u001b[0;32m     21\u001b[0m learn \u001b[38;5;241m=\u001b[39m vision_learner(dls, arch\u001b[38;5;241m=\u001b[39m\u001b[38;5;28mgetattr\u001b[39m(tvmodels, config\u001b[38;5;241m.\u001b[39march), pretrained\u001b[38;5;241m=\u001b[39mconfig\u001b[38;5;241m.\u001b[39mpretrained, metrics\u001b[38;5;241m=\u001b[39mmetrics)\n\u001b[0;32m     24\u001b[0m cbs \u001b[38;5;241m=\u001b[39m [WandbCallback(log_preds\u001b[38;5;241m=\u001b[39m\u001b[38;5;28;01mTrue\u001b[39;00m, log_model\u001b[38;5;241m=\u001b[39m\u001b[38;5;28;01mTrue\u001b[39;00m),\n\u001b[0;32m     25\u001b[0m         SaveModelCallback(fname\u001b[38;5;241m=\u001b[39m\u001b[38;5;124mf\u001b[39m\u001b[38;5;124m'\u001b[39m\u001b[38;5;124mrun-\u001b[39m\u001b[38;5;132;01m{\u001b[39;00mwandb\u001b[38;5;241m.\u001b[39mrun\u001b[38;5;241m.\u001b[39mid\u001b[38;5;132;01m}\u001b[39;00m\u001b[38;5;124m-model\u001b[39m\u001b[38;5;124m'\u001b[39m, monitor\u001b[38;5;241m=\u001b[39m\u001b[38;5;124m'\u001b[39m\u001b[38;5;124mf1_score\u001b[39m\u001b[38;5;124m'\u001b[39m)]\n",
            "\u001b[1;31mNameError\u001b[0m: name 'Accuracy' is not defined"
          ]
        }
      ],
      "source": [
        "train(train_config)"
      ]
    },
    {
      "cell_type": "markdown",
      "metadata": {
        "id": "WQkyKGeyr7kS"
      },
      "source": [
        "# Sweep RUN"
      ]
    },
    {
      "cell_type": "code",
      "execution_count": 25,
      "metadata": {
        "id": "iInt2ufesKhv"
      },
      "outputs": [],
      "source": [
        "sweep_config = {\n",
        "    'method': 'bayes',\n",
        "    'name': 'sweep',\n",
        "    'metric': {\n",
        "        'goal': 'maximize',\n",
        "        'name': 'f1_score'\n",
        "        },\n",
        "    'parameters': {\n",
        "        'batch_size': {'values': [8, 32]},\n",
        "        'epochs': {'values': [10, 15]},\n",
        "        'lr': {\n",
        "            'distribution': 'log_uniform_values',\n",
        "            'max': 1e-2,\n",
        "            'min': 1e-5\n",
        "        },\n",
        "        'augment': {'value': 'True'},\n",
        "        'pretrained': {'value': 'True'},\n",
        "        'img_size': {'value': (256, 256)},\n",
        "        'seed': {'values': [42]},\n",
        "        'arch': {\n",
        "            'values': ['vgg11', 'vgg13', 'vgg16','vgg19']\n",
        "            }\n",
        "        },\n",
        "    'early_terminate': {\n",
        "        'type': 'hyperband',\n",
        "        'min_iter': 3\n",
        "    }\n",
        "}"
      ]
    },
    {
      "cell_type": "code",
      "execution_count": 26,
      "metadata": {
        "colab": {
          "base_uri": "https://localhost:8080/"
        },
        "id": "JttqTBFsrXyT",
        "outputId": "03cfe4f2-841a-410d-d7bf-cc9fbba1a8f3"
      },
      "outputs": [
        {
          "name": "stdout",
          "output_type": "stream",
          "text": [
            "Create sweep with ID: 5kfgxmpr\n",
            "Sweep URL: https://wandb.ai/iconet/cad_dl/sweeps/5kfgxmpr\n"
          ]
        }
      ],
      "source": [
        "sweep_id = wandb.sweep(sweep_config, project=WANDB_PROJECT)"
      ]
    },
    {
      "cell_type": "code",
      "execution_count": 27,
      "metadata": {
        "id": "lHSRlzdjqXd9"
      },
      "outputs": [
        {
          "name": "stderr",
          "output_type": "stream",
          "text": [
            "\u001b[34m\u001b[1mwandb\u001b[0m: \u001b[33mWARNING\u001b[0m Calling wandb.login() after wandb.init() has no effect.\n",
            "\u001b[34m\u001b[1mwandb\u001b[0m: Agent Starting Run: ol4mmhxx with config:\n",
            "\u001b[34m\u001b[1mwandb\u001b[0m: \tarch: vgg16\n",
            "\u001b[34m\u001b[1mwandb\u001b[0m: \taugment: True\n",
            "\u001b[34m\u001b[1mwandb\u001b[0m: \tbatch_size: 32\n",
            "\u001b[34m\u001b[1mwandb\u001b[0m: \tepochs: 15\n",
            "\u001b[34m\u001b[1mwandb\u001b[0m: \timg_size: [256, 256]\n",
            "\u001b[34m\u001b[1mwandb\u001b[0m: \tlr: 2.2019094169865347e-05\n",
            "\u001b[34m\u001b[1mwandb\u001b[0m: \tpretrained: True\n",
            "\u001b[34m\u001b[1mwandb\u001b[0m: \tseed: 42\n"
          ]
        },
        {
          "data": {
            "text/html": [
              "Tracking run with wandb version 0.16.1"
            ],
            "text/plain": [
              "<IPython.core.display.HTML object>"
            ]
          },
          "metadata": {},
          "output_type": "display_data"
        },
        {
          "data": {
            "text/html": [
              "Run data is saved locally in <code>c:\\Users\\Enrique\\Desktop\\Udg\\CAD\\Project\\cad_dl\\wandb\\run-20231220_213714-ol4mmhxx</code>"
            ],
            "text/plain": [
              "<IPython.core.display.HTML object>"
            ]
          },
          "metadata": {},
          "output_type": "display_data"
        },
        {
          "data": {
            "text/html": [
              "Syncing run <strong><a href='https://wandb.ai/iconet/cad_dl/runs/ol4mmhxx' target=\"_blank\">fine-sweep-1</a></strong> to <a href='https://wandb.ai/iconet/cad_dl' target=\"_blank\">Weights & Biases</a> (<a href='https://wandb.me/run' target=\"_blank\">docs</a>)<br/>Sweep page: <a href='https://wandb.ai/iconet/cad_dl/sweeps/5kfgxmpr' target=\"_blank\">https://wandb.ai/iconet/cad_dl/sweeps/5kfgxmpr</a>"
            ],
            "text/plain": [
              "<IPython.core.display.HTML object>"
            ]
          },
          "metadata": {},
          "output_type": "display_data"
        },
        {
          "data": {
            "text/html": [
              " View project at <a href='https://wandb.ai/iconet/cad_dl' target=\"_blank\">https://wandb.ai/iconet/cad_dl</a>"
            ],
            "text/plain": [
              "<IPython.core.display.HTML object>"
            ]
          },
          "metadata": {},
          "output_type": "display_data"
        },
        {
          "data": {
            "text/html": [
              " View sweep at <a href='https://wandb.ai/iconet/cad_dl/sweeps/5kfgxmpr' target=\"_blank\">https://wandb.ai/iconet/cad_dl/sweeps/5kfgxmpr</a>"
            ],
            "text/plain": [
              "<IPython.core.display.HTML object>"
            ]
          },
          "metadata": {},
          "output_type": "display_data"
        },
        {
          "data": {
            "text/html": [
              " View run at <a href='https://wandb.ai/iconet/cad_dl/runs/ol4mmhxx' target=\"_blank\">https://wandb.ai/iconet/cad_dl/runs/ol4mmhxx</a>"
            ],
            "text/plain": [
              "<IPython.core.display.HTML object>"
            ]
          },
          "metadata": {},
          "output_type": "display_data"
        },
        {
          "name": "stderr",
          "output_type": "stream",
          "text": [
            "\u001b[34m\u001b[1mwandb\u001b[0m: \u001b[33mWARNING\u001b[0m Ignored wandb.init() arg project when running a sweep.\n",
            "\u001b[34m\u001b[1mwandb\u001b[0m: \u001b[33mWARNING\u001b[0m Ignored wandb.init() arg entity when running a sweep.\n"
          ]
        },
        {
          "data": {
            "text/html": [
              "Finishing last run (ID:ol4mmhxx) before initializing another..."
            ],
            "text/plain": [
              "<IPython.core.display.HTML object>"
            ]
          },
          "metadata": {},
          "output_type": "display_data"
        },
        {
          "name": "stderr",
          "output_type": "stream",
          "text": [
            "Exception in thread Exception in thread IntMsgThrNetStatThr:\n",
            ":\n",
            "Traceback (most recent call last):\n",
            "Traceback (most recent call last):\n",
            "  File \"C:\\Program Files\\WindowsApps\\PythonSoftwareFoundation.Python.3.11_3.11.1776.0_x64__qbz5n2kfra8p0\\Lib\\threading.py\", line 1045, in _bootstrap_inner\n",
            "  File \"C:\\Program Files\\WindowsApps\\PythonSoftwareFoundation.Python.3.11_3.11.1776.0_x64__qbz5n2kfra8p0\\Lib\\threading.py\", line 1045, in _bootstrap_inner\n",
            "    self.run()\n",
            "  File \"C:\\Program Files\\WindowsApps\\PythonSoftwareFoundation.Python.3.11_3.11.1776.0_x64__qbz5n2kfra8p0\\Lib\\threading.py\", line 982, in run\n",
            "    self.run()\n",
            "  File \"C:\\Program Files\\WindowsApps\\PythonSoftwareFoundation.Python.3.11_3.11.1776.0_x64__qbz5n2kfra8p0\\Lib\\threading.py\", line 982, in run\n",
            "    self._target(*self._args, **self._kwargs)\n",
            "  File \"c:\\Users\\Enrique\\Desktop\\Udg\\CAD\\Project\\cad_dl\\.venv\\Lib\\site-packages\\wandb\\sdk\\wandb_run.py\", line 268, in check_network_status\n",
            "    self._target(*self._args, **self._kwargs)\n",
            "  File \"c:\\Users\\Enrique\\Desktop\\Udg\\CAD\\Project\\cad_dl\\.venv\\Lib\\site-packages\\wandb\\sdk\\wandb_run.py\", line 300, in check_internal_messages\n",
            "    self._loop_check_status(\n",
            "  File \"c:\\Users\\Enrique\\Desktop\\Udg\\CAD\\Project\\cad_dl\\.venv\\Lib\\site-packages\\wandb\\sdk\\wandb_run.py\", line 224, in _loop_check_status\n",
            "    self._loop_check_status(\n",
            "  File \"c:\\Users\\Enrique\\Desktop\\Udg\\CAD\\Project\\cad_dl\\.venv\\Lib\\site-packages\\wandb\\sdk\\wandb_run.py\", line 224, in _loop_check_status\n",
            "    local_handle = request()\n",
            "                   ^^^^^^^^^\n",
            "  File \"c:\\Users\\Enrique\\Desktop\\Udg\\CAD\\Project\\cad_dl\\.venv\\Lib\\site-packages\\wandb\\sdk\\interface\\interface.py\", line 756, in deliver_network_status\n",
            "    local_handle = request()\n",
            "                   ^^^^^^^^^\n",
            "  File \"c:\\Users\\Enrique\\Desktop\\Udg\\CAD\\Project\\cad_dl\\.venv\\Lib\\site-packages\\wandb\\sdk\\interface\\interface.py\", line 764, in deliver_internal_messages\n",
            "    return self._deliver_internal_messages(internal_message)\n",
            "           ^^^^^^^^^^^^^^^^^^^^^^^^^^^^^^^^^^^^^^^^^^^^^    ^return self._deliver_network_status(status)^\n",
            "^^ \n",
            "    File \"c:\\Users\\Enrique\\Desktop\\Udg\\CAD\\Project\\cad_dl\\.venv\\Lib\\site-packages\\wandb\\sdk\\interface\\interface_shared.py\", line 490, in _deliver_internal_messages\n",
            "        ^^^^^^^^^^^^^^^^^^^^^^^^^^^^^^^^^^^^\n",
            "  File \"c:\\Users\\Enrique\\Desktop\\Udg\\CAD\\Project\\cad_dl\\.venv\\Lib\\site-packages\\wandb\\sdk\\interface\\interface_shared.py\", line 484, in _deliver_network_status\n",
            "    return self._deliver_record(record)\n",
            "           ^^^^^^^^^^^^^^^^^^^^^^^^^^^^\n",
            "  File \"c:\\Users\\Enrique\\Desktop\\Udg\\CAD\\Project\\cad_dl\\.venv\\Lib\\site-packages\\wandb\\sdk\\interface\\interface_shared.py\", line 437, in _deliver_record\n",
            "    return self._deliver_record(record)\n",
            "           ^^^^^^^^^^^^^^^^^^^^^^^^^^^^\n",
            "  File \"c:\\Users\\Enrique\\Desktop\\Udg\\CAD\\Project\\cad_dl\\.venv\\Lib\\site-packages\\wandb\\sdk\\interface\\interface_shared.py\", line 437, in _deliver_record\n",
            "    handle = mailbox._deliver_record(record, interface=self)\n",
            "             ^^^^^^^^^^^^^^^^^^^^^^^^^^^^^^^^^^^^^^^^^^^^^^^\n",
            "  File \"c:\\Users\\Enrique\\Desktop\\Udg\\CAD\\Project\\cad_dl\\.venv\\Lib\\site-packages\\wandb\\sdk\\lib\\mailbox.py\", line 455, in _deliver_record\n",
            "    handle = mailbox._deliver_record(record, interface=self)\n",
            "             ^^^^^^^^^^^^^^^^^^^^^^^^^^^^^^^^^^^^^^^^^^^^^^^\n",
            "  File \"c:\\Users\\Enrique\\Desktop\\Udg\\CAD\\Project\\cad_dl\\.venv\\Lib\\site-packages\\wandb\\sdk\\lib\\mailbox.py\", line 455, in _deliver_record\n",
            "    interface._publish(record)\n",
            "  File \"c:\\Users\\Enrique\\Desktop\\Udg\\CAD\\Project\\cad_dl\\.venv\\Lib\\site-packages\\wandb\\sdk\\interface\\interface_sock.py\", line 51, in _publish\n",
            "    interface._publish(record)\n",
            "  File \"c:\\Users\\Enrique\\Desktop\\Udg\\CAD\\Project\\cad_dl\\.venv\\Lib\\site-packages\\wandb\\sdk\\interface\\interface_sock.py\", line 51, in _publish\n",
            "    self._sock_client.send_record_publish(record)\n",
            "  File \"c:\\Users\\Enrique\\Desktop\\Udg\\CAD\\Project\\cad_dl\\.venv\\Lib\\site-packages\\wandb\\sdk\\lib\\sock_client.py\", line 221, in send_record_publish\n",
            "    self._sock_client.send_record_publish(record)\n",
            "  File \"c:\\Users\\Enrique\\Desktop\\Udg\\CAD\\Project\\cad_dl\\.venv\\Lib\\site-packages\\wandb\\sdk\\lib\\sock_client.py\", line 221, in send_record_publish\n",
            "    self.send_server_request(server_req)\n",
            "  File \"c:\\Users\\Enrique\\Desktop\\Udg\\CAD\\Project\\cad_dl\\.venv\\Lib\\site-packages\\wandb\\sdk\\lib\\sock_client.py\", line 155, in send_server_request\n",
            "        self.send_server_request(server_req)self._send_message(msg)\n",
            "\n",
            "  File \"c:\\Users\\Enrique\\Desktop\\Udg\\CAD\\Project\\cad_dl\\.venv\\Lib\\site-packages\\wandb\\sdk\\lib\\sock_client.py\", line 155, in send_server_request\n",
            "  File \"c:\\Users\\Enrique\\Desktop\\Udg\\CAD\\Project\\cad_dl\\.venv\\Lib\\site-packages\\wandb\\sdk\\lib\\sock_client.py\", line 152, in _send_message\n",
            "    self._send_message(msg)\n",
            "  File \"c:\\Users\\Enrique\\Desktop\\Udg\\CAD\\Project\\cad_dl\\.venv\\Lib\\site-packages\\wandb\\sdk\\lib\\sock_client.py\", line 152, in _send_message\n",
            "    self._sendall_with_error_handle(header + data)\n",
            "  File \"c:\\Users\\Enrique\\Desktop\\Udg\\CAD\\Project\\cad_dl\\.venv\\Lib\\site-packages\\wandb\\sdk\\lib\\sock_client.py\", line 130, in _sendall_with_error_handle\n",
            "    self._sendall_with_error_handle(header + data)\n",
            "  File \"c:\\Users\\Enrique\\Desktop\\Udg\\CAD\\Project\\cad_dl\\.venv\\Lib\\site-packages\\wandb\\sdk\\lib\\sock_client.py\", line 130, in _sendall_with_error_handle\n",
            "    sent = self._sock.send(data)\n",
            "           ^^^^^^^^^^^^^^^^^^^^^\n",
            "ConnectionAbortedError: [WinError 10053] Se ha anulado una conexión establecida por el software en su equipo host\n",
            "    sent = self._sock.send(data)\n",
            "           ^^^^^^^^^^^^^^^^^^^^^\n",
            "ConnectionAbortedError: [WinError 10053] Se ha anulado una conexión establecida por el software en su equipo host\n",
            "Exception in thread ChkStopThr:\n",
            "Traceback (most recent call last):\n",
            "  File \"C:\\Program Files\\WindowsApps\\PythonSoftwareFoundation.Python.3.11_3.11.1776.0_x64__qbz5n2kfra8p0\\Lib\\threading.py\", line 1045, in _bootstrap_inner\n",
            "    self.run()\n",
            "  File \"C:\\Program Files\\WindowsApps\\PythonSoftwareFoundation.Python.3.11_3.11.1776.0_x64__qbz5n2kfra8p0\\Lib\\threading.py\", line 982, in run\n",
            "    self._target(*self._args, **self._kwargs)\n",
            "  File \"c:\\Users\\Enrique\\Desktop\\Udg\\CAD\\Project\\cad_dl\\.venv\\Lib\\site-packages\\wandb\\sdk\\wandb_run.py\", line 286, in check_stop_status\n",
            "    self._loop_check_status(\n",
            "  File \"c:\\Users\\Enrique\\Desktop\\Udg\\CAD\\Project\\cad_dl\\.venv\\Lib\\site-packages\\wandb\\sdk\\wandb_run.py\", line 224, in _loop_check_status\n",
            "    local_handle = request()\n",
            "                   ^^^^^^^^^\n",
            "  File \"c:\\Users\\Enrique\\Desktop\\Udg\\CAD\\Project\\cad_dl\\.venv\\Lib\\site-packages\\wandb\\sdk\\interface\\interface.py\", line 748, in deliver_stop_status\n",
            "    return self._deliver_stop_status(status)\n",
            "           ^^^^^^^^^^^^^^^^^^^^^^^^^^^^^^^^^\n",
            "  File \"c:\\Users\\Enrique\\Desktop\\Udg\\CAD\\Project\\cad_dl\\.venv\\Lib\\site-packages\\wandb\\sdk\\interface\\interface_shared.py\", line 468, in _deliver_stop_status\n",
            "    return self._deliver_record(record)\n",
            "           ^^^^^^^^^^^^^^^^^^^^^^^^^^^^\n",
            "  File \"c:\\Users\\Enrique\\Desktop\\Udg\\CAD\\Project\\cad_dl\\.venv\\Lib\\site-packages\\wandb\\sdk\\interface\\interface_shared.py\", line 437, in _deliver_record\n",
            "    handle = mailbox._deliver_record(record, interface=self)\n",
            "             ^^^^^^^^^^^^^^^^^^^^^^^^^^^^^^^^^^^^^^^^^^^^^^^\n",
            "  File \"c:\\Users\\Enrique\\Desktop\\Udg\\CAD\\Project\\cad_dl\\.venv\\Lib\\site-packages\\wandb\\sdk\\lib\\mailbox.py\", line 455, in _deliver_record\n",
            "    interface._publish(record)\n",
            "  File \"c:\\Users\\Enrique\\Desktop\\Udg\\CAD\\Project\\cad_dl\\.venv\\Lib\\site-packages\\wandb\\sdk\\interface\\interface_sock.py\", line 51, in _publish\n",
            "    self._sock_client.send_record_publish(record)\n",
            "  File \"c:\\Users\\Enrique\\Desktop\\Udg\\CAD\\Project\\cad_dl\\.venv\\Lib\\site-packages\\wandb\\sdk\\lib\\sock_client.py\", line 221, in send_record_publish\n",
            "    self.send_server_request(server_req)\n",
            "  File \"c:\\Users\\Enrique\\Desktop\\Udg\\CAD\\Project\\cad_dl\\.venv\\Lib\\site-packages\\wandb\\sdk\\lib\\sock_client.py\", line 155, in send_server_request\n",
            "    self._send_message(msg)\n",
            "  File \"c:\\Users\\Enrique\\Desktop\\Udg\\CAD\\Project\\cad_dl\\.venv\\Lib\\site-packages\\wandb\\sdk\\lib\\sock_client.py\", line 152, in _send_message\n",
            "    self._sendall_with_error_handle(header + data)\n",
            "  File \"c:\\Users\\Enrique\\Desktop\\Udg\\CAD\\Project\\cad_dl\\.venv\\Lib\\site-packages\\wandb\\sdk\\lib\\sock_client.py\", line 130, in _sendall_with_error_handle\n",
            "    sent = self._sock.send(data)\n",
            "           ^^^^^^^^^^^^^^^^^^^^^\n",
            "ConnectionAbortedError: [WinError 10053] Se ha anulado una conexión establecida por el software en su equipo host\n"
          ]
        },
        {
          "data": {
            "text/html": [
              " View run <strong style=\"color:#cdcd00\">fine-sweep-1</strong> at: <a href='https://wandb.ai/iconet/cad_dl/runs/ol4mmhxx' target=\"_blank\">https://wandb.ai/iconet/cad_dl/runs/ol4mmhxx</a><br/>Synced 5 W&B file(s), 0 media file(s), 0 artifact file(s) and 0 other file(s)"
            ],
            "text/plain": [
              "<IPython.core.display.HTML object>"
            ]
          },
          "metadata": {},
          "output_type": "display_data"
        },
        {
          "data": {
            "text/html": [
              "Find logs at: <code>.\\wandb\\run-20231220_213714-ol4mmhxx\\logs</code>"
            ],
            "text/plain": [
              "<IPython.core.display.HTML object>"
            ]
          },
          "metadata": {},
          "output_type": "display_data"
        },
        {
          "data": {
            "text/html": [
              "Successfully finished last run (ID:ol4mmhxx). Initializing new run:<br/>"
            ],
            "text/plain": [
              "<IPython.core.display.HTML object>"
            ]
          },
          "metadata": {},
          "output_type": "display_data"
        },
        {
          "data": {
            "text/html": [
              "Tracking run with wandb version 0.16.1"
            ],
            "text/plain": [
              "<IPython.core.display.HTML object>"
            ]
          },
          "metadata": {},
          "output_type": "display_data"
        },
        {
          "data": {
            "text/html": [
              "Run data is saved locally in <code>c:\\Users\\Enrique\\Desktop\\Udg\\CAD\\Project\\cad_dl\\wandb\\run-20231220_213715-ol4mmhxx</code>"
            ],
            "text/plain": [
              "<IPython.core.display.HTML object>"
            ]
          },
          "metadata": {},
          "output_type": "display_data"
        },
        {
          "data": {
            "text/html": [
              "Syncing run <strong><a href='https://wandb.ai/iconet/cad_dl/runs/ol4mmhxx' target=\"_blank\">fine-sweep-1</a></strong> to <a href='https://wandb.ai/iconet/cad_dl' target=\"_blank\">Weights & Biases</a> (<a href='https://wandb.me/run' target=\"_blank\">docs</a>)<br/>Sweep page: <a href='https://wandb.ai/iconet/cad_dl/sweeps/5kfgxmpr' target=\"_blank\">https://wandb.ai/iconet/cad_dl/sweeps/5kfgxmpr</a>"
            ],
            "text/plain": [
              "<IPython.core.display.HTML object>"
            ]
          },
          "metadata": {},
          "output_type": "display_data"
        },
        {
          "data": {
            "text/html": [
              " View project at <a href='https://wandb.ai/iconet/cad_dl' target=\"_blank\">https://wandb.ai/iconet/cad_dl</a>"
            ],
            "text/plain": [
              "<IPython.core.display.HTML object>"
            ]
          },
          "metadata": {},
          "output_type": "display_data"
        },
        {
          "data": {
            "text/html": [
              " View sweep at <a href='https://wandb.ai/iconet/cad_dl/sweeps/5kfgxmpr' target=\"_blank\">https://wandb.ai/iconet/cad_dl/sweeps/5kfgxmpr</a>"
            ],
            "text/plain": [
              "<IPython.core.display.HTML object>"
            ]
          },
          "metadata": {},
          "output_type": "display_data"
        },
        {
          "data": {
            "text/html": [
              " View run at <a href='https://wandb.ai/iconet/cad_dl/runs/ol4mmhxx' target=\"_blank\">https://wandb.ai/iconet/cad_dl/runs/ol4mmhxx</a>"
            ],
            "text/plain": [
              "<IPython.core.display.HTML object>"
            ]
          },
          "metadata": {},
          "output_type": "display_data"
        },
        {
          "name": "stderr",
          "output_type": "stream",
          "text": [
            "Traceback (most recent call last):\n",
            "  File \"C:\\Users\\Enrique\\AppData\\Local\\Temp\\ipykernel_15884\\4260176863.py\", line 17, in train\n",
            "    dls = get_data(df, bs=config.batch_size, img_size=config.img_size, augment=config.augment)\n",
            "          ^^^^^^^^\n",
            "NameError: name 'get_data' is not defined\n",
            "\u001b[34m\u001b[1mwandb\u001b[0m: \u001b[32m\u001b[41mERROR\u001b[0m Run ol4mmhxx errored: NameError(\"name 'get_data' is not defined\")\n"
          ]
        }
      ],
      "source": [
        "wandb.agent(sweep_id, train)"
      ]
    },
    {
      "cell_type": "markdown",
      "metadata": {
        "id": "Yx6brLBFp_ao"
      },
      "source": []
    }
  ],
  "metadata": {
    "accelerator": "GPU",
    "colab": {
      "collapsed_sections": [
        "x5RAPxC4jKgU",
        "e6cc5437-1a17-4738-a3c7-f1959324f4ed",
        "e5W2iil93dZ6"
      ],
      "gpuType": "V100",
      "machine_shape": "hm",
      "provenance": []
    },
    "kernelspec": {
      "display_name": "Python 3",
      "name": "python3"
    },
    "language_info": {
      "codemirror_mode": {
        "name": "ipython",
        "version": 3
      },
      "file_extension": ".py",
      "mimetype": "text/x-python",
      "name": "python",
      "nbconvert_exporter": "python",
      "pygments_lexer": "ipython3",
      "version": "3.11.6"
    }
  },
  "nbformat": 4,
  "nbformat_minor": 0
}
