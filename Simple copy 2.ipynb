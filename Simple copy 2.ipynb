{
 "cells": [
  {
   "cell_type": "code",
   "execution_count": 1,
   "metadata": {},
   "outputs": [],
   "source": [
    "import wandb\n",
    "import pandas as pd\n",
    "import torch\n",
    "import torchvision.models as tvmodels\n",
    "from fastai.vision.all import *\n",
    "from fastai.callback.wandb import WandbCallback"
   ]
  },
  {
   "cell_type": "code",
   "execution_count": 2,
   "metadata": {},
   "outputs": [
    {
     "name": "stdout",
     "output_type": "stream",
     "text": [
      "Wed Dec 20 22:44:12 2023       \n",
      "+---------------------------------------------------------------------------------------+\n",
      "| NVIDIA-SMI 546.33                 Driver Version: 546.33       CUDA Version: 12.3     |\n",
      "|-----------------------------------------+----------------------+----------------------+\n",
      "| GPU  Name                     TCC/WDDM  | Bus-Id        Disp.A | Volatile Uncorr. ECC |\n",
      "| Fan  Temp   Perf          Pwr:Usage/Cap |         Memory-Usage | GPU-Util  Compute M. |\n",
      "|                                         |                      |               MIG M. |\n",
      "|=========================================+======================+======================|\n",
      "|   0  NVIDIA GeForce RTX 4060      WDDM  | 00000000:01:00.0  On |                  N/A |\n",
      "|  0%   50C    P3              N/A / 115W |   2353MiB /  8188MiB |     12%      Default |\n",
      "|                                         |                      |                  N/A |\n",
      "+-----------------------------------------+----------------------+----------------------+\n",
      "                                                                                         \n",
      "+---------------------------------------------------------------------------------------+\n",
      "| Processes:                                                                            |\n",
      "|  GPU   GI   CI        PID   Type   Process name                            GPU Memory |\n",
      "|        ID   ID                                                             Usage      |\n",
      "|=======================================================================================|\n",
      "|    0   N/A  N/A       524    C+G   ...5n1h2txyewy\\ShellExperienceHost.exe    N/A      |\n",
      "|    0   N/A  N/A      2860    C+G   ...ager\\Mendeley Reference Manager.exe    N/A      |\n",
      "|    0   N/A  N/A      6088    C+G   ...crosoft\\Edge\\Application\\msedge.exe    N/A      |\n",
      "|    0   N/A  N/A     10152    C+G   ...2.0_x64__cv1g1gvanyjgm\\WhatsApp.exe    N/A      |\n",
      "|    0   N/A  N/A     13572    C+G   ...nt.CBS_cw5n1h2txyewy\\SearchHost.exe    N/A      |\n",
      "|    0   N/A  N/A     13764    C+G   ...CBS_cw5n1h2txyewy\\TextInputHost.exe    N/A      |\n",
      "|    0   N/A  N/A     14600    C+G   ...2txyewy\\StartMenuExperienceHost.exe    N/A      |\n",
      "|    0   N/A  N/A     15220    C+G   C:\\Windows\\explorer.exe                   N/A      |\n",
      "|    0   N/A  N/A     15456      C   ...0_x64__qbz5n2kfra8p0\\python3.11.exe    N/A      |\n",
      "|    0   N/A  N/A     15560    C+G   ...on\\120.0.2210.77\\msedgewebview2.exe    N/A      |\n",
      "|    0   N/A  N/A     16668    C+G   ...GeForce Experience\\NVIDIA Share.exe    N/A      |\n",
      "|    0   N/A  N/A     18584    C+G   ...\\cef\\cef.win7x64\\steamwebhelper.exe    N/A      |\n",
      "|    0   N/A  N/A     19768    C+G   ...siveControlPanel\\SystemSettings.exe    N/A      |\n",
      "|    0   N/A  N/A     19880    C+G   ...t.LockApp_cw5n1h2txyewy\\LockApp.exe    N/A      |\n",
      "|    0   N/A  N/A     23632    C+G   ...Programs\\Microsoft VS Code\\Code.exe    N/A      |\n",
      "+---------------------------------------------------------------------------------------+\n"
     ]
    }
   ],
   "source": [
    "gpu_info = !nvidia-smi\n",
    "gpu_info = '\\n'.join(gpu_info)\n",
    "if gpu_info.find('failed') >= 0:\n",
    "  print('Not connected to a GPU')\n",
    "else:\n",
    "  print(gpu_info)"
   ]
  },
  {
   "cell_type": "code",
   "execution_count": 3,
   "metadata": {},
   "outputs": [],
   "source": [
    "WANDB_PROJECT = \"cad_dl\"\n",
    "ENTITY = \"iconet\" # set this to team name if working in a team\n",
    "\n",
    "RAW_DATA_AT = 'skin_data'\n",
    "PROCESSED_DATA_AT = 'skin_data_proc'\n",
    "\n",
    "path = Path(r\"C:\\Users\\Enrique\\Desktop\\Udg\\CAD\\Project\\cad_dl\\artifacts\\skin_data-v0\")\n",
    "\n",
    "processed_dataset_dir= Path(r\"C:\\Users\\Enrique\\Desktop\\Udg\\CAD\\Project\\cad_dl\\artifacts\\skin_data_proc-v3\")"
   ]
  },
  {
   "cell_type": "code",
   "execution_count": 5,
   "metadata": {},
   "outputs": [],
   "source": [
    "def get_df(processed_dataset_dir, is_test = False):\n",
    "  df = pd.read_csv(processed_dataset_dir / 'data.csv')\n",
    "\n",
    "  if not is_test:\n",
    "    df = df[df.Stage != 'test'].reset_index(drop=True)\n",
    "    df['is_valid'] = df.Stage == 'valid'\n",
    "  else:\n",
    "    df = df[df.Stage == 'test'].reset_index(drop=True)\n",
    "\n",
    "  df[\"Label\"] = [f'{f}' for f in df.Label.values]\n",
    "\n",
    "  return df\n",
    "\n",
    "def find_image_path(file_name):\n",
    "    folders = ['nevus_train_images', 'others_train_images', 'nevus_val_images', 'others_val_images']\n",
    "\n",
    "    for folder in folders:\n",
    "        potential_path = path / folder / f'{file_name}.jpg'\n",
    "        if potential_path.exists():\n",
    "            return potential_path\n",
    "\n",
    "    return None  # If the path couldn't be determined\n",
    "\n",
    "def get_data(df, bs=4, img_size=(128, 128), augment=True):\n",
    "    block = DataBlock(blocks=(ImageBlock, CategoryBlock),\n",
    "                  get_x=ColReader(\"image_fname\"),\n",
    "                  get_y=ColReader(\"Label\"),\n",
    "                  splitter=ColSplitter(),\n",
    "                  item_tfms=Resize(img_size),\n",
    "                  batch_tfms=aug_transforms() if augment else None,\n",
    "                 )\n",
    "    return block.dataloaders(df, bs=bs)\n",
    "\n",
    "def get_data(df, bs=4, img_size=(128, 128), augment=True):\n",
    "    block = DataBlock(blocks=(ImageBlock, CategoryBlock),\n",
    "                  get_x=ColReader(\"image_fname\"),\n",
    "                  get_y=ColReader(\"Label\"),\n",
    "                  splitter=ColSplitter(),\n",
    "                  item_tfms=Resize(img_size),\n",
    "                  batch_tfms=[aug_transforms() if augment else None, Normalize.from_stats(*imagenet_stats)]\n",
    "                 )\n",
    "    return block.dataloaders(df, bs=bs)\n",
    "\n",
    "def log_final_metrics(learn):\n",
    "  scores = learn.validate()\n",
    "  metric_names = ['final_loss'] + [f'final_{x.name}' for x in learn.metrics]\n",
    "  final_results = {metric_names[i] : scores[i] for i in range(len(scores))}\n",
    "  for k,v in final_results.items():\n",
    "      wandb.summary[k] = v\n",
    "\n",
    "def train(config=None):\n",
    "  # device = torch.device('cuda' if torch.cuda.is_available() else 'cpu')\n",
    "  device = torch.device('cpu')\n",
    "  print(f\"Training on device: {device}\")\n",
    "  # Initialize a new wandb run\n",
    "  with wandb.init(config=config):\n",
    "      # If called by wandb.agent, as below,\n",
    "      # this config will be set by Sweep Controller\n",
    "      config = wandb.config\n",
    "\n",
    "      set_seed(config.seed, reproducible=True)\n",
    "      run = wandb.init(project=WANDB_PROJECT, entity=ENTITY, job_type=\"training\", config=config)\n",
    "\n",
    "      # processed_dataset_dir = download_csv()\n",
    "      # df = get_df(processed_dataset_dir)\n",
    "\n",
    "\n",
    "\n",
    "      dls = get_data(df, bs=config.batch_size, img_size=config.img_size, augment=config.augment)\n",
    "\n",
    "      metrics = [Precision(), Recall(), F1Score(), MatthewsCorrCoef()]\n",
    "\n",
    "      learn = vision_learner(dls, arch=getattr(tvmodels, config.arch), pretrained=config.pretrained, metrics=metrics)\n",
    "\n",
    "\n",
    "      cbs = [WandbCallback(log_preds=True, log_model=True),\n",
    "              SaveModelCallback(fname=f'run-{wandb.run.id}-model', monitor='f1_score')]\n",
    "\n",
    "      #learn.lr_find(stop_div=False, num_it=200)\n",
    "      #learn.recorder.plot(suggestion=True)\n",
    "\n",
    "\n",
    "      learn.fit_one_cycle(config.epochs, config.lr, cbs=cbs)\n",
    "\n",
    "      log_final_metrics(learn)\n",
    "\n",
    "      wandb.finish()\n",
    "      "
   ]
  },
  {
   "cell_type": "code",
   "execution_count": 6,
   "metadata": {},
   "outputs": [
    {
     "name": "stderr",
     "output_type": "stream",
     "text": [
      "Failed to detect the name of this notebook, you can set it manually with the WANDB_NOTEBOOK_NAME environment variable to enable code saving.\n"
     ]
    },
    {
     "name": "stderr",
     "output_type": "stream",
     "text": [
      "\u001b[34m\u001b[1mwandb\u001b[0m: Currently logged in as: \u001b[33menriquefvrc\u001b[0m (\u001b[33miconet\u001b[0m). Use \u001b[1m`wandb login --relogin`\u001b[0m to force relogin\n"
     ]
    },
    {
     "data": {
      "text/html": [
       "Tracking run with wandb version 0.16.1"
      ],
      "text/plain": [
       "<IPython.core.display.HTML object>"
      ]
     },
     "metadata": {},
     "output_type": "display_data"
    },
    {
     "data": {
      "text/html": [
       "Run data is saved locally in <code>c:\\Users\\Enrique\\Desktop\\Udg\\CAD\\Project\\cad_dl\\wandb\\run-20231220_224708-44aaq95l</code>"
      ],
      "text/plain": [
       "<IPython.core.display.HTML object>"
      ]
     },
     "metadata": {},
     "output_type": "display_data"
    },
    {
     "data": {
      "text/html": [
       "Syncing run <strong><a href='https://wandb.ai/iconet/cad_dl/runs/44aaq95l' target=\"_blank\">neat-breeze-58</a></strong> to <a href='https://wandb.ai/iconet/cad_dl' target=\"_blank\">Weights & Biases</a> (<a href='https://wandb.me/run' target=\"_blank\">docs</a>)<br/>"
      ],
      "text/plain": [
       "<IPython.core.display.HTML object>"
      ]
     },
     "metadata": {},
     "output_type": "display_data"
    },
    {
     "data": {
      "text/html": [
       " View project at <a href='https://wandb.ai/iconet/cad_dl' target=\"_blank\">https://wandb.ai/iconet/cad_dl</a>"
      ],
      "text/plain": [
       "<IPython.core.display.HTML object>"
      ]
     },
     "metadata": {},
     "output_type": "display_data"
    },
    {
     "data": {
      "text/html": [
       " View run at <a href='https://wandb.ai/iconet/cad_dl/runs/44aaq95l' target=\"_blank\">https://wandb.ai/iconet/cad_dl/runs/44aaq95l</a>"
      ],
      "text/plain": [
       "<IPython.core.display.HTML object>"
      ]
     },
     "metadata": {},
     "output_type": "display_data"
    },
    {
     "name": "stdout",
     "output_type": "stream",
     "text": [
      "Training on device: cpu\n"
     ]
    },
    {
     "data": {
      "text/html": [
       "Finishing last run (ID:44aaq95l) before initializing another..."
      ],
      "text/plain": [
       "<IPython.core.display.HTML object>"
      ]
     },
     "metadata": {},
     "output_type": "display_data"
    },
    {
     "data": {
      "text/html": [
       " View run <strong style=\"color:#cdcd00\">neat-breeze-58</strong> at: <a href='https://wandb.ai/iconet/cad_dl/runs/44aaq95l' target=\"_blank\">https://wandb.ai/iconet/cad_dl/runs/44aaq95l</a><br/>Synced 5 W&B file(s), 0 media file(s), 0 artifact file(s) and 0 other file(s)"
      ],
      "text/plain": [
       "<IPython.core.display.HTML object>"
      ]
     },
     "metadata": {},
     "output_type": "display_data"
    },
    {
     "data": {
      "text/html": [
       "Find logs at: <code>.\\wandb\\run-20231220_224708-44aaq95l\\logs</code>"
      ],
      "text/plain": [
       "<IPython.core.display.HTML object>"
      ]
     },
     "metadata": {},
     "output_type": "display_data"
    },
    {
     "data": {
      "text/html": [
       "Successfully finished last run (ID:44aaq95l). Initializing new run:<br/>"
      ],
      "text/plain": [
       "<IPython.core.display.HTML object>"
      ]
     },
     "metadata": {},
     "output_type": "display_data"
    },
    {
     "data": {
      "text/html": [
       "Tracking run with wandb version 0.16.1"
      ],
      "text/plain": [
       "<IPython.core.display.HTML object>"
      ]
     },
     "metadata": {},
     "output_type": "display_data"
    },
    {
     "data": {
      "text/html": [
       "Run data is saved locally in <code>c:\\Users\\Enrique\\Desktop\\Udg\\CAD\\Project\\cad_dl\\wandb\\run-20231220_224710-zjees75t</code>"
      ],
      "text/plain": [
       "<IPython.core.display.HTML object>"
      ]
     },
     "metadata": {},
     "output_type": "display_data"
    },
    {
     "data": {
      "text/html": [
       "Syncing run <strong><a href='https://wandb.ai/iconet/Project/runs/zjees75t' target=\"_blank\">fine-wave-5</a></strong> to <a href='https://wandb.ai/iconet/Project' target=\"_blank\">Weights & Biases</a> (<a href='https://wandb.me/run' target=\"_blank\">docs</a>)<br/>"
      ],
      "text/plain": [
       "<IPython.core.display.HTML object>"
      ]
     },
     "metadata": {},
     "output_type": "display_data"
    },
    {
     "data": {
      "text/html": [
       " View project at <a href='https://wandb.ai/iconet/Project' target=\"_blank\">https://wandb.ai/iconet/Project</a>"
      ],
      "text/plain": [
       "<IPython.core.display.HTML object>"
      ]
     },
     "metadata": {},
     "output_type": "display_data"
    },
    {
     "data": {
      "text/html": [
       " View run at <a href='https://wandb.ai/iconet/Project/runs/zjees75t' target=\"_blank\">https://wandb.ai/iconet/Project/runs/zjees75t</a>"
      ],
      "text/plain": [
       "<IPython.core.display.HTML object>"
      ]
     },
     "metadata": {},
     "output_type": "display_data"
    },
    {
     "data": {
      "text/html": [
       "Finishing last run (ID:zjees75t) before initializing another..."
      ],
      "text/plain": [
       "<IPython.core.display.HTML object>"
      ]
     },
     "metadata": {},
     "output_type": "display_data"
    },
    {
     "data": {
      "text/html": [
       " View run <strong style=\"color:#cdcd00\">fine-wave-5</strong> at: <a href='https://wandb.ai/iconet/Project/runs/zjees75t' target=\"_blank\">https://wandb.ai/iconet/Project/runs/zjees75t</a><br/>Synced 4 W&B file(s), 0 media file(s), 0 artifact file(s) and 0 other file(s)"
      ],
      "text/plain": [
       "<IPython.core.display.HTML object>"
      ]
     },
     "metadata": {},
     "output_type": "display_data"
    },
    {
     "data": {
      "text/html": [
       "Find logs at: <code>.\\wandb\\run-20231220_224710-zjees75t\\logs</code>"
      ],
      "text/plain": [
       "<IPython.core.display.HTML object>"
      ]
     },
     "metadata": {},
     "output_type": "display_data"
    },
    {
     "data": {
      "text/html": [
       "Successfully finished last run (ID:zjees75t). Initializing new run:<br/>"
      ],
      "text/plain": [
       "<IPython.core.display.HTML object>"
      ]
     },
     "metadata": {},
     "output_type": "display_data"
    },
    {
     "data": {
      "text/html": [
       "Tracking run with wandb version 0.16.1"
      ],
      "text/plain": [
       "<IPython.core.display.HTML object>"
      ]
     },
     "metadata": {},
     "output_type": "display_data"
    },
    {
     "data": {
      "text/html": [
       "Run data is saved locally in <code>c:\\Users\\Enrique\\Desktop\\Udg\\CAD\\Project\\cad_dl\\wandb\\run-20231220_224717-o2aq3jh4</code>"
      ],
      "text/plain": [
       "<IPython.core.display.HTML object>"
      ]
     },
     "metadata": {},
     "output_type": "display_data"
    },
    {
     "data": {
      "text/html": [
       "Syncing run <strong><a href='https://wandb.ai/iconet/cad_dl/runs/o2aq3jh4' target=\"_blank\">fluent-meadow-59</a></strong> to <a href='https://wandb.ai/iconet/cad_dl' target=\"_blank\">Weights & Biases</a> (<a href='https://wandb.me/run' target=\"_blank\">docs</a>)<br/>"
      ],
      "text/plain": [
       "<IPython.core.display.HTML object>"
      ]
     },
     "metadata": {},
     "output_type": "display_data"
    },
    {
     "data": {
      "text/html": [
       " View project at <a href='https://wandb.ai/iconet/cad_dl' target=\"_blank\">https://wandb.ai/iconet/cad_dl</a>"
      ],
      "text/plain": [
       "<IPython.core.display.HTML object>"
      ]
     },
     "metadata": {},
     "output_type": "display_data"
    },
    {
     "data": {
      "text/html": [
       " View run at <a href='https://wandb.ai/iconet/cad_dl/runs/o2aq3jh4' target=\"_blank\">https://wandb.ai/iconet/cad_dl/runs/o2aq3jh4</a>"
      ],
      "text/plain": [
       "<IPython.core.display.HTML object>"
      ]
     },
     "metadata": {},
     "output_type": "display_data"
    },
    {
     "data": {
      "text/html": [
       "\n",
       "<style>\n",
       "    /* Turns off some styling */\n",
       "    progress {\n",
       "        /* gets rid of default border in Firefox and Opera. */\n",
       "        border: none;\n",
       "        /* Needs to be in here for Safari polyfill so background images work as expected. */\n",
       "        background-size: auto;\n",
       "    }\n",
       "    progress:not([value]), progress:not([value])::-webkit-progress-bar {\n",
       "        background: repeating-linear-gradient(45deg, #7e7e7e, #7e7e7e 10px, #5c5c5c 10px, #5c5c5c 20px);\n",
       "    }\n",
       "    .progress-bar-interrupted, .progress-bar-interrupted::-webkit-progress-bar {\n",
       "        background: #F44336;\n",
       "    }\n",
       "</style>\n"
      ],
      "text/plain": [
       "<IPython.core.display.HTML object>"
      ]
     },
     "metadata": {},
     "output_type": "display_data"
    },
    {
     "data": {
      "text/html": [
       "\n",
       "    <div>\n",
       "      <progress value='2' class='' max='10' style='width:300px; height:20px; vertical-align: middle;'></progress>\n",
       "      20.00% [2/10 05:48&lt;23:12]\n",
       "    </div>\n",
       "    \n",
       "<table border=\"1\" class=\"dataframe\">\n",
       "  <thead>\n",
       "    <tr style=\"text-align: left;\">\n",
       "      <th>epoch</th>\n",
       "      <th>train_loss</th>\n",
       "      <th>valid_loss</th>\n",
       "      <th>precision_score</th>\n",
       "      <th>recall_score</th>\n",
       "      <th>f1_score</th>\n",
       "      <th>matthews_corrcoef</th>\n",
       "      <th>time</th>\n",
       "    </tr>\n",
       "  </thead>\n",
       "  <tbody>\n",
       "    <tr>\n",
       "      <td>0</td>\n",
       "      <td>0.666255</td>\n",
       "      <td>0.535643</td>\n",
       "      <td>0.768780</td>\n",
       "      <td>0.773727</td>\n",
       "      <td>0.771245</td>\n",
       "      <td>0.548923</td>\n",
       "      <td>02:56</td>\n",
       "    </tr>\n",
       "    <tr>\n",
       "      <td>1</td>\n",
       "      <td>0.487819</td>\n",
       "      <td>0.439548</td>\n",
       "      <td>0.800645</td>\n",
       "      <td>0.798928</td>\n",
       "      <td>0.799785</td>\n",
       "      <td>0.606823</td>\n",
       "      <td>02:51</td>\n",
       "    </tr>\n",
       "  </tbody>\n",
       "</table><p>\n",
       "\n",
       "    <div>\n",
       "      <progress value='62' class='' max='119' style='width:300px; height:20px; vertical-align: middle;'></progress>\n",
       "      52.10% [62/119 00:16&lt;00:15 0.4411]\n",
       "    </div>\n",
       "    "
      ],
      "text/plain": [
       "<IPython.core.display.HTML object>"
      ]
     },
     "metadata": {},
     "output_type": "display_data"
    },
    {
     "name": "stdout",
     "output_type": "stream",
     "text": [
      "Better model found at epoch 0 with f1_score value: 0.7712453233564939.\n",
      "Better model found at epoch 1 with f1_score value: 0.7997852925389157.\n"
     ]
    }
   ],
   "source": [
    "train_config = SimpleNamespace(\n",
    "    framework=\"fastai\",\n",
    "    img_size=(128, 128),\n",
    "    batch_size=32,\n",
    "    augment=None, # use data augmentation\n",
    "    epochs=10,\n",
    "    lr=2e-3,\n",
    "    arch=\"resnet50\",\n",
    "    pretrained=True,  # whether to use pretrained encoder\n",
    "    seed=42,\n",
    ")\n",
    "\n",
    "set_seed(train_config.seed, reproducible=True)\n",
    "\n",
    "run = wandb.init(project=WANDB_PROJECT, entity=ENTITY, job_type=\"training\", config=train_config)\n",
    "df = get_df(processed_dataset_dir, is_test = False)\n",
    "\n",
    "# Apply the function to create a new column with the correct paths\n",
    "df[\"image_fname\"] = df[\"File_Name\"].apply(find_image_path)\n",
    "config = wandb.config\n",
    "dls = get_data(df, bs=config.batch_size, img_size=config.img_size, augment=config.augment)\n",
    "\n",
    "train(train_config)\n",
    "\n",
    "sweep_config = {\n",
    "    'method': 'bayes',\n",
    "    'name': 'sweep',\n",
    "    'metric': {\n",
    "        'goal': 'maximize',\n",
    "        'name': 'f1_score'\n",
    "        },\n",
    "    'parameters': {\n",
    "        'batch_size': {'values': [8, 32]},\n",
    "        'epochs': {'values': [10, 15]},\n",
    "        'lr': {\n",
    "            'distribution': 'log_uniform_values',\n",
    "            'max': 1e-2,\n",
    "            'min': 1e-5\n",
    "        },\n",
    "        'augment': {'value': 'True'},\n",
    "        'pretrained': {'value': 'True'},\n",
    "        'img_size': {'value': (256, 256)},\n",
    "        'seed': {'values': [42]},\n",
    "        'arch': {\n",
    "            'values': ['inception_v3', 'densenet161', 'densenet169','densenet201']\n",
    "            }\n",
    "        },\n",
    "    'early_terminate': {\n",
    "        'type': 'hyperband',\n",
    "        'min_iter': 3\n",
    "    }\n",
    "}\n",
    "\n",
    "sweep_id = wandb.sweep(sweep_config, project=WANDB_PROJECT)\n",
    "\n",
    "wandb.agent(sweep_id, train)"
   ]
  }
 ],
 "metadata": {
  "kernelspec": {
   "display_name": ".venv",
   "language": "python",
   "name": "python3"
  },
  "language_info": {
   "codemirror_mode": {
    "name": "ipython",
    "version": 3
   },
   "file_extension": ".py",
   "mimetype": "text/x-python",
   "name": "python",
   "nbconvert_exporter": "python",
   "pygments_lexer": "ipython3",
   "version": "3.11.6"
  }
 },
 "nbformat": 4,
 "nbformat_minor": 2
}
