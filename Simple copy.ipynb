{
 "cells": [
  {
   "cell_type": "code",
   "execution_count": 1,
   "metadata": {},
   "outputs": [],
   "source": [
    "import wandb\n",
    "import pandas as pd\n",
    "import torch\n",
    "import torchvision.models as tvmodels\n",
    "from fastai.vision.all import *\n",
    "from fastai.callback.wandb import WandbCallback"
   ]
  },
  {
   "cell_type": "code",
   "execution_count": 2,
   "metadata": {},
   "outputs": [
    {
     "name": "stdout",
     "output_type": "stream",
     "text": [
      "Wed Dec 20 22:44:12 2023       \n",
      "+---------------------------------------------------------------------------------------+\n",
      "| NVIDIA-SMI 546.33                 Driver Version: 546.33       CUDA Version: 12.3     |\n",
      "|-----------------------------------------+----------------------+----------------------+\n",
      "| GPU  Name                     TCC/WDDM  | Bus-Id        Disp.A | Volatile Uncorr. ECC |\n",
      "| Fan  Temp   Perf          Pwr:Usage/Cap |         Memory-Usage | GPU-Util  Compute M. |\n",
      "|                                         |                      |               MIG M. |\n",
      "|=========================================+======================+======================|\n",
      "|   0  NVIDIA GeForce RTX 4060      WDDM  | 00000000:01:00.0  On |                  N/A |\n",
      "|  0%   50C    P3              N/A / 115W |   2353MiB /  8188MiB |     12%      Default |\n",
      "|                                         |                      |                  N/A |\n",
      "+-----------------------------------------+----------------------+----------------------+\n",
      "                                                                                         \n",
      "+---------------------------------------------------------------------------------------+\n",
      "| Processes:                                                                            |\n",
      "|  GPU   GI   CI        PID   Type   Process name                            GPU Memory |\n",
      "|        ID   ID                                                             Usage      |\n",
      "|=======================================================================================|\n",
      "|    0   N/A  N/A       524    C+G   ...5n1h2txyewy\\ShellExperienceHost.exe    N/A      |\n",
      "|    0   N/A  N/A      2860    C+G   ...ager\\Mendeley Reference Manager.exe    N/A      |\n",
      "|    0   N/A  N/A      6088    C+G   ...crosoft\\Edge\\Application\\msedge.exe    N/A      |\n",
      "|    0   N/A  N/A     10152    C+G   ...2.0_x64__cv1g1gvanyjgm\\WhatsApp.exe    N/A      |\n",
      "|    0   N/A  N/A     13572    C+G   ...nt.CBS_cw5n1h2txyewy\\SearchHost.exe    N/A      |\n",
      "|    0   N/A  N/A     13764    C+G   ...CBS_cw5n1h2txyewy\\TextInputHost.exe    N/A      |\n",
      "|    0   N/A  N/A     14600    C+G   ...2txyewy\\StartMenuExperienceHost.exe    N/A      |\n",
      "|    0   N/A  N/A     15220    C+G   C:\\Windows\\explorer.exe                   N/A      |\n",
      "|    0   N/A  N/A     15456      C   ...0_x64__qbz5n2kfra8p0\\python3.11.exe    N/A      |\n",
      "|    0   N/A  N/A     15560    C+G   ...on\\120.0.2210.77\\msedgewebview2.exe    N/A      |\n",
      "|    0   N/A  N/A     16668    C+G   ...GeForce Experience\\NVIDIA Share.exe    N/A      |\n",
      "|    0   N/A  N/A     18584    C+G   ...\\cef\\cef.win7x64\\steamwebhelper.exe    N/A      |\n",
      "|    0   N/A  N/A     19768    C+G   ...siveControlPanel\\SystemSettings.exe    N/A      |\n",
      "|    0   N/A  N/A     19880    C+G   ...t.LockApp_cw5n1h2txyewy\\LockApp.exe    N/A      |\n",
      "|    0   N/A  N/A     23632    C+G   ...Programs\\Microsoft VS Code\\Code.exe    N/A      |\n",
      "+---------------------------------------------------------------------------------------+\n"
     ]
    }
   ],
   "source": [
    "gpu_info = !nvidia-smi\n",
    "gpu_info = '\\n'.join(gpu_info)\n",
    "if gpu_info.find('failed') >= 0:\n",
    "  print('Not connected to a GPU')\n",
    "else:\n",
    "  print(gpu_info)"
   ]
  },
  {
   "cell_type": "code",
   "execution_count": 3,
   "metadata": {},
   "outputs": [],
   "source": [
    "WANDB_PROJECT = \"cad_dl\"\n",
    "ENTITY = \"iconet\" # set this to team name if working in a team\n",
    "\n",
    "RAW_DATA_AT = 'skin_data'\n",
    "PROCESSED_DATA_AT = 'skin_data_proc'\n",
    "\n",
    "path = Path(r\"C:\\Users\\Enrique\\Desktop\\Udg\\CAD\\Project\\cad_dl\\artifacts\\skin_data-v0\")\n",
    "\n",
    "processed_dataset_dir= Path(r\"C:\\Users\\Enrique\\Desktop\\Udg\\CAD\\Project\\cad_dl\\artifacts\\skin_data_proc-v3\")"
   ]
  },
  {
   "cell_type": "code",
   "execution_count": 5,
   "metadata": {},
   "outputs": [],
   "source": [
    "def get_df(processed_dataset_dir, is_test = False):\n",
    "  df = pd.read_csv(processed_dataset_dir / 'data.csv')\n",
    "\n",
    "  if not is_test:\n",
    "    df = df[df.Stage != 'test'].reset_index(drop=True)\n",
    "    df['is_valid'] = df.Stage == 'valid'\n",
    "  else:\n",
    "    df = df[df.Stage == 'test'].reset_index(drop=True)\n",
    "\n",
    "  df[\"Label\"] = [f'{f}' for f in df.Label.values]\n",
    "\n",
    "  return df\n",
    "\n",
    "def find_image_path(file_name):\n",
    "    folders = ['nevus_train_images', 'others_train_images', 'nevus_val_images', 'others_val_images']\n",
    "\n",
    "    for folder in folders:\n",
    "        potential_path = path / folder / f'{file_name}.jpg'\n",
    "        if potential_path.exists():\n",
    "            return potential_path\n",
    "\n",
    "    return None  # If the path couldn't be determined\n",
    "\n",
    "def get_data(df, bs=4, img_size=(128, 128), augment=True):\n",
    "    block = DataBlock(blocks=(ImageBlock, CategoryBlock),\n",
    "                  get_x=ColReader(\"image_fname\"),\n",
    "                  get_y=ColReader(\"Label\"),\n",
    "                  splitter=ColSplitter(),\n",
    "                  item_tfms=Resize(img_size),\n",
    "                  batch_tfms=aug_transforms() if augment else None,\n",
    "                 )\n",
    "    return block.dataloaders(df, bs=bs)\n",
    "\n",
    "def get_data(df, bs=4, img_size=(128, 128), augment=True):\n",
    "    block = DataBlock(blocks=(ImageBlock, CategoryBlock),\n",
    "                  get_x=ColReader(\"image_fname\"),\n",
    "                  get_y=ColReader(\"Label\"),\n",
    "                  splitter=ColSplitter(),\n",
    "                  item_tfms=Resize(img_size),\n",
    "                  batch_tfms=[aug_transforms() if augment else None, Normalize.from_stats(*imagenet_stats)]\n",
    "                 )\n",
    "    return block.dataloaders(df, bs=bs)\n",
    "\n",
    "def log_final_metrics(learn):\n",
    "  scores = learn.validate()\n",
    "  metric_names = ['final_loss'] + [f'final_{x.name}' for x in learn.metrics]\n",
    "  final_results = {metric_names[i] : scores[i] for i in range(len(scores))}\n",
    "  for k,v in final_results.items():\n",
    "      wandb.summary[k] = v\n",
    "\n",
    "def train(config=None):\n",
    "  # device = torch.device('cuda' if torch.cuda.is_available() else 'cpu')\n",
    "  device = torch.device('cpu')\n",
    "  print(f\"Training on device: {device}\")\n",
    "  # Initialize a new wandb run\n",
    "  with wandb.init(config=config):\n",
    "      # If called by wandb.agent, as below,\n",
    "      # this config will be set by Sweep Controller\n",
    "      config = wandb.config\n",
    "\n",
    "      set_seed(config.seed, reproducible=True)\n",
    "      run = wandb.init(project=WANDB_PROJECT, entity=ENTITY, job_type=\"training\", config=config)\n",
    "\n",
    "      # processed_dataset_dir = download_csv()\n",
    "      # df = get_df(processed_dataset_dir)\n",
    "\n",
    "\n",
    "\n",
    "      dls = get_data(df, bs=config.batch_size, img_size=config.img_size, augment=config.augment)\n",
    "\n",
    "      metrics = [Precision(), Recall(), F1Score(), MatthewsCorrCoef()]\n",
    "\n",
    "      learn = vision_learner(dls, arch=getattr(tvmodels, config.arch), pretrained=config.pretrained, metrics=metrics)\n",
    "\n",
    "\n",
    "      cbs = [WandbCallback(log_preds=True, log_model=True),\n",
    "              SaveModelCallback(fname=f'run-{wandb.run.id}-model', monitor='f1_score')]\n",
    "\n",
    "      #learn.lr_find(stop_div=False, num_it=200)\n",
    "      #learn.recorder.plot(suggestion=True)\n",
    "\n",
    "\n",
    "      learn.fit_one_cycle(config.epochs, config.lr, cbs=cbs)\n",
    "\n",
    "      log_final_metrics(learn)\n",
    "\n",
    "      wandb.finish()\n",
    "      "
   ]
  },
  {
   "cell_type": "code",
   "execution_count": 6,
   "metadata": {},
   "outputs": [
    {
     "name": "stderr",
     "output_type": "stream",
     "text": [
      "Failed to detect the name of this notebook, you can set it manually with the WANDB_NOTEBOOK_NAME environment variable to enable code saving.\n"
     ]
    },
    {
     "name": "stderr",
     "output_type": "stream",
     "text": [
      "\u001b[34m\u001b[1mwandb\u001b[0m: Currently logged in as: \u001b[33menriquefvrc\u001b[0m (\u001b[33miconet\u001b[0m). Use \u001b[1m`wandb login --relogin`\u001b[0m to force relogin\n"
     ]
    },
    {
     "data": {
      "text/html": [
       "Tracking run with wandb version 0.16.1"
      ],
      "text/plain": [
       "<IPython.core.display.HTML object>"
      ]
     },
     "metadata": {},
     "output_type": "display_data"
    },
    {
     "data": {
      "text/html": [
       "Run data is saved locally in <code>c:\\Users\\Enrique\\Desktop\\Udg\\CAD\\Project\\cad_dl\\wandb\\run-20231220_224708-44aaq95l</code>"
      ],
      "text/plain": [
       "<IPython.core.display.HTML object>"
      ]
     },
     "metadata": {},
     "output_type": "display_data"
    },
    {
     "data": {
      "text/html": [
       "Syncing run <strong><a href='https://wandb.ai/iconet/cad_dl/runs/44aaq95l' target=\"_blank\">neat-breeze-58</a></strong> to <a href='https://wandb.ai/iconet/cad_dl' target=\"_blank\">Weights & Biases</a> (<a href='https://wandb.me/run' target=\"_blank\">docs</a>)<br/>"
      ],
      "text/plain": [
       "<IPython.core.display.HTML object>"
      ]
     },
     "metadata": {},
     "output_type": "display_data"
    },
    {
     "data": {
      "text/html": [
       " View project at <a href='https://wandb.ai/iconet/cad_dl' target=\"_blank\">https://wandb.ai/iconet/cad_dl</a>"
      ],
      "text/plain": [
       "<IPython.core.display.HTML object>"
      ]
     },
     "metadata": {},
     "output_type": "display_data"
    },
    {
     "data": {
      "text/html": [
       " View run at <a href='https://wandb.ai/iconet/cad_dl/runs/44aaq95l' target=\"_blank\">https://wandb.ai/iconet/cad_dl/runs/44aaq95l</a>"
      ],
      "text/plain": [
       "<IPython.core.display.HTML object>"
      ]
     },
     "metadata": {},
     "output_type": "display_data"
    },
    {
     "name": "stdout",
     "output_type": "stream",
     "text": [
      "Training on device: cpu\n"
     ]
    },
    {
     "data": {
      "text/html": [
       "Finishing last run (ID:44aaq95l) before initializing another..."
      ],
      "text/plain": [
       "<IPython.core.display.HTML object>"
      ]
     },
     "metadata": {},
     "output_type": "display_data"
    },
    {
     "data": {
      "text/html": [
       " View run <strong style=\"color:#cdcd00\">neat-breeze-58</strong> at: <a href='https://wandb.ai/iconet/cad_dl/runs/44aaq95l' target=\"_blank\">https://wandb.ai/iconet/cad_dl/runs/44aaq95l</a><br/>Synced 5 W&B file(s), 0 media file(s), 0 artifact file(s) and 0 other file(s)"
      ],
      "text/plain": [
       "<IPython.core.display.HTML object>"
      ]
     },
     "metadata": {},
     "output_type": "display_data"
    },
    {
     "data": {
      "text/html": [
       "Find logs at: <code>.\\wandb\\run-20231220_224708-44aaq95l\\logs</code>"
      ],
      "text/plain": [
       "<IPython.core.display.HTML object>"
      ]
     },
     "metadata": {},
     "output_type": "display_data"
    },
    {
     "data": {
      "text/html": [
       "Successfully finished last run (ID:44aaq95l). Initializing new run:<br/>"
      ],
      "text/plain": [
       "<IPython.core.display.HTML object>"
      ]
     },
     "metadata": {},
     "output_type": "display_data"
    },
    {
     "data": {
      "text/html": [
       "Tracking run with wandb version 0.16.1"
      ],
      "text/plain": [
       "<IPython.core.display.HTML object>"
      ]
     },
     "metadata": {},
     "output_type": "display_data"
    },
    {
     "data": {
      "text/html": [
       "Run data is saved locally in <code>c:\\Users\\Enrique\\Desktop\\Udg\\CAD\\Project\\cad_dl\\wandb\\run-20231220_224710-zjees75t</code>"
      ],
      "text/plain": [
       "<IPython.core.display.HTML object>"
      ]
     },
     "metadata": {},
     "output_type": "display_data"
    },
    {
     "data": {
      "text/html": [
       "Syncing run <strong><a href='https://wandb.ai/iconet/Project/runs/zjees75t' target=\"_blank\">fine-wave-5</a></strong> to <a href='https://wandb.ai/iconet/Project' target=\"_blank\">Weights & Biases</a> (<a href='https://wandb.me/run' target=\"_blank\">docs</a>)<br/>"
      ],
      "text/plain": [
       "<IPython.core.display.HTML object>"
      ]
     },
     "metadata": {},
     "output_type": "display_data"
    },
    {
     "data": {
      "text/html": [
       " View project at <a href='https://wandb.ai/iconet/Project' target=\"_blank\">https://wandb.ai/iconet/Project</a>"
      ],
      "text/plain": [
       "<IPython.core.display.HTML object>"
      ]
     },
     "metadata": {},
     "output_type": "display_data"
    },
    {
     "data": {
      "text/html": [
       " View run at <a href='https://wandb.ai/iconet/Project/runs/zjees75t' target=\"_blank\">https://wandb.ai/iconet/Project/runs/zjees75t</a>"
      ],
      "text/plain": [
       "<IPython.core.display.HTML object>"
      ]
     },
     "metadata": {},
     "output_type": "display_data"
    },
    {
     "data": {
      "text/html": [
       "Finishing last run (ID:zjees75t) before initializing another..."
      ],
      "text/plain": [
       "<IPython.core.display.HTML object>"
      ]
     },
     "metadata": {},
     "output_type": "display_data"
    },
    {
     "data": {
      "text/html": [
       " View run <strong style=\"color:#cdcd00\">fine-wave-5</strong> at: <a href='https://wandb.ai/iconet/Project/runs/zjees75t' target=\"_blank\">https://wandb.ai/iconet/Project/runs/zjees75t</a><br/>Synced 4 W&B file(s), 0 media file(s), 0 artifact file(s) and 0 other file(s)"
      ],
      "text/plain": [
       "<IPython.core.display.HTML object>"
      ]
     },
     "metadata": {},
     "output_type": "display_data"
    },
    {
     "data": {
      "text/html": [
       "Find logs at: <code>.\\wandb\\run-20231220_224710-zjees75t\\logs</code>"
      ],
      "text/plain": [
       "<IPython.core.display.HTML object>"
      ]
     },
     "metadata": {},
     "output_type": "display_data"
    },
    {
     "data": {
      "text/html": [
       "Successfully finished last run (ID:zjees75t). Initializing new run:<br/>"
      ],
      "text/plain": [
       "<IPython.core.display.HTML object>"
      ]
     },
     "metadata": {},
     "output_type": "display_data"
    },
    {
     "data": {
      "text/html": [
       "Tracking run with wandb version 0.16.1"
      ],
      "text/plain": [
       "<IPython.core.display.HTML object>"
      ]
     },
     "metadata": {},
     "output_type": "display_data"
    },
    {
     "data": {
      "text/html": [
       "Run data is saved locally in <code>c:\\Users\\Enrique\\Desktop\\Udg\\CAD\\Project\\cad_dl\\wandb\\run-20231220_224717-o2aq3jh4</code>"
      ],
      "text/plain": [
       "<IPython.core.display.HTML object>"
      ]
     },
     "metadata": {},
     "output_type": "display_data"
    },
    {
     "data": {
      "text/html": [
       "Syncing run <strong><a href='https://wandb.ai/iconet/cad_dl/runs/o2aq3jh4' target=\"_blank\">fluent-meadow-59</a></strong> to <a href='https://wandb.ai/iconet/cad_dl' target=\"_blank\">Weights & Biases</a> (<a href='https://wandb.me/run' target=\"_blank\">docs</a>)<br/>"
      ],
      "text/plain": [
       "<IPython.core.display.HTML object>"
      ]
     },
     "metadata": {},
     "output_type": "display_data"
    },
    {
     "data": {
      "text/html": [
       " View project at <a href='https://wandb.ai/iconet/cad_dl' target=\"_blank\">https://wandb.ai/iconet/cad_dl</a>"
      ],
      "text/plain": [
       "<IPython.core.display.HTML object>"
      ]
     },
     "metadata": {},
     "output_type": "display_data"
    },
    {
     "data": {
      "text/html": [
       " View run at <a href='https://wandb.ai/iconet/cad_dl/runs/o2aq3jh4' target=\"_blank\">https://wandb.ai/iconet/cad_dl/runs/o2aq3jh4</a>"
      ],
      "text/plain": [
       "<IPython.core.display.HTML object>"
      ]
     },
     "metadata": {},
     "output_type": "display_data"
    },
    {
     "data": {
      "text/html": [
       "\n",
       "<style>\n",
       "    /* Turns off some styling */\n",
       "    progress {\n",
       "        /* gets rid of default border in Firefox and Opera. */\n",
       "        border: none;\n",
       "        /* Needs to be in here for Safari polyfill so background images work as expected. */\n",
       "        background-size: auto;\n",
       "    }\n",
       "    progress:not([value]), progress:not([value])::-webkit-progress-bar {\n",
       "        background: repeating-linear-gradient(45deg, #7e7e7e, #7e7e7e 10px, #5c5c5c 10px, #5c5c5c 20px);\n",
       "    }\n",
       "    .progress-bar-interrupted, .progress-bar-interrupted::-webkit-progress-bar {\n",
       "        background: #F44336;\n",
       "    }\n",
       "</style>\n"
      ],
      "text/plain": [
       "<IPython.core.display.HTML object>"
      ]
     },
     "metadata": {},
     "output_type": "display_data"
    },
    {
     "data": {
      "text/html": [
       "<table border=\"1\" class=\"dataframe\">\n",
       "  <thead>\n",
       "    <tr style=\"text-align: left;\">\n",
       "      <th>epoch</th>\n",
       "      <th>train_loss</th>\n",
       "      <th>valid_loss</th>\n",
       "      <th>precision_score</th>\n",
       "      <th>recall_score</th>\n",
       "      <th>f1_score</th>\n",
       "      <th>matthews_corrcoef</th>\n",
       "      <th>time</th>\n",
       "    </tr>\n",
       "  </thead>\n",
       "  <tbody>\n",
       "    <tr>\n",
       "      <td>0</td>\n",
       "      <td>0.666255</td>\n",
       "      <td>0.535643</td>\n",
       "      <td>0.768780</td>\n",
       "      <td>0.773727</td>\n",
       "      <td>0.771245</td>\n",
       "      <td>0.548923</td>\n",
       "      <td>02:56</td>\n",
       "    </tr>\n",
       "    <tr>\n",
       "      <td>1</td>\n",
       "      <td>0.487819</td>\n",
       "      <td>0.439548</td>\n",
       "      <td>0.800645</td>\n",
       "      <td>0.798928</td>\n",
       "      <td>0.799785</td>\n",
       "      <td>0.606823</td>\n",
       "      <td>02:51</td>\n",
       "    </tr>\n",
       "    <tr>\n",
       "      <td>2</td>\n",
       "      <td>0.441145</td>\n",
       "      <td>0.407852</td>\n",
       "      <td>0.845650</td>\n",
       "      <td>0.760858</td>\n",
       "      <td>0.801016</td>\n",
       "      <td>0.630888</td>\n",
       "      <td>03:24</td>\n",
       "    </tr>\n",
       "    <tr>\n",
       "      <td>3</td>\n",
       "      <td>0.390120</td>\n",
       "      <td>0.391812</td>\n",
       "      <td>0.838202</td>\n",
       "      <td>0.800000</td>\n",
       "      <td>0.818656</td>\n",
       "      <td>0.652017</td>\n",
       "      <td>02:56</td>\n",
       "    </tr>\n",
       "    <tr>\n",
       "      <td>4</td>\n",
       "      <td>0.396718</td>\n",
       "      <td>0.366934</td>\n",
       "      <td>0.819352</td>\n",
       "      <td>0.853619</td>\n",
       "      <td>0.836134</td>\n",
       "      <td>0.671936</td>\n",
       "      <td>02:54</td>\n",
       "    </tr>\n",
       "    <tr>\n",
       "      <td>5</td>\n",
       "      <td>0.359951</td>\n",
       "      <td>0.360908</td>\n",
       "      <td>0.840603</td>\n",
       "      <td>0.836997</td>\n",
       "      <td>0.838796</td>\n",
       "      <td>0.683765</td>\n",
       "      <td>02:53</td>\n",
       "    </tr>\n",
       "    <tr>\n",
       "      <td>6</td>\n",
       "      <td>0.327334</td>\n",
       "      <td>0.355021</td>\n",
       "      <td>0.860399</td>\n",
       "      <td>0.809651</td>\n",
       "      <td>0.834254</td>\n",
       "      <td>0.684617</td>\n",
       "      <td>02:51</td>\n",
       "    </tr>\n",
       "    <tr>\n",
       "      <td>7</td>\n",
       "      <td>0.296376</td>\n",
       "      <td>0.352523</td>\n",
       "      <td>0.860767</td>\n",
       "      <td>0.818767</td>\n",
       "      <td>0.839242</td>\n",
       "      <td>0.692228</td>\n",
       "      <td>02:54</td>\n",
       "    </tr>\n",
       "    <tr>\n",
       "      <td>8</td>\n",
       "      <td>0.290549</td>\n",
       "      <td>0.352234</td>\n",
       "      <td>0.863272</td>\n",
       "      <td>0.809115</td>\n",
       "      <td>0.835317</td>\n",
       "      <td>0.687392</td>\n",
       "      <td>02:50</td>\n",
       "    </tr>\n",
       "    <tr>\n",
       "      <td>9</td>\n",
       "      <td>0.279131</td>\n",
       "      <td>0.357274</td>\n",
       "      <td>0.875443</td>\n",
       "      <td>0.795174</td>\n",
       "      <td>0.833380</td>\n",
       "      <td>0.689797</td>\n",
       "      <td>02:52</td>\n",
       "    </tr>\n",
       "  </tbody>\n",
       "</table>"
      ],
      "text/plain": [
       "<IPython.core.display.HTML object>"
      ]
     },
     "metadata": {},
     "output_type": "display_data"
    },
    {
     "name": "stdout",
     "output_type": "stream",
     "text": [
      "Better model found at epoch 0 with f1_score value: 0.7712453233564939.\n",
      "Better model found at epoch 1 with f1_score value: 0.7997852925389157.\n",
      "Better model found at epoch 2 with f1_score value: 0.8010160880609652.\n",
      "Better model found at epoch 3 with f1_score value: 0.8186556927297668.\n",
      "Better model found at epoch 4 with f1_score value: 0.8361344537815126.\n",
      "Better model found at epoch 5 with f1_score value: 0.8387963460505106.\n",
      "Better model found at epoch 7 with f1_score value: 0.8392415498763397.\n"
     ]
    },
    {
     "data": {
      "text/html": [
       "\n",
       "<style>\n",
       "    /* Turns off some styling */\n",
       "    progress {\n",
       "        /* gets rid of default border in Firefox and Opera. */\n",
       "        border: none;\n",
       "        /* Needs to be in here for Safari polyfill so background images work as expected. */\n",
       "        background-size: auto;\n",
       "    }\n",
       "    progress:not([value]), progress:not([value])::-webkit-progress-bar {\n",
       "        background: repeating-linear-gradient(45deg, #7e7e7e, #7e7e7e 10px, #5c5c5c 10px, #5c5c5c 20px);\n",
       "    }\n",
       "    .progress-bar-interrupted, .progress-bar-interrupted::-webkit-progress-bar {\n",
       "        background: #F44336;\n",
       "    }\n",
       "</style>\n"
      ],
      "text/plain": [
       "<IPython.core.display.HTML object>"
      ]
     },
     "metadata": {},
     "output_type": "display_data"
    },
    {
     "data": {
      "text/html": [],
      "text/plain": [
       "<IPython.core.display.HTML object>"
      ]
     },
     "metadata": {},
     "output_type": "display_data"
    },
    {
     "data": {
      "text/html": [
       "<style>\n",
       "    table.wandb td:nth-child(1) { padding: 0 10px; text-align: left ; width: auto;} td:nth-child(2) {text-align: left ; width: 100%}\n",
       "    .wandb-row { display: flex; flex-direction: row; flex-wrap: wrap; justify-content: flex-start; width: 100% }\n",
       "    .wandb-col { display: flex; flex-direction: column; flex-basis: 100%; flex: 1; padding: 10px; }\n",
       "    </style>\n",
       "<div class=\"wandb-row\"><div class=\"wandb-col\"><h3>Run history:</h3><br/><table class=\"wandb\"><tr><td>epoch</td><td>▁▁▁▁▂▂▂▂▂▃▃▃▃▃▃▄▄▄▄▄▅▅▅▅▅▅▆▆▆▆▆▇▇▇▇▇▇███</td></tr><tr><td>eps_0</td><td>▁▁▁▁▁▁▁▁▁▁▁▁▁▁▁▁▁▁▁▁▁▁▁▁▁▁▁▁▁▁▁▁▁▁▁▁▁▁▁▁</td></tr><tr><td>eps_1</td><td>▁▁▁▁▁▁▁▁▁▁▁▁▁▁▁▁▁▁▁▁▁▁▁▁▁▁▁▁▁▁▁▁▁▁▁▁▁▁▁▁</td></tr><tr><td>eps_2</td><td>▁▁▁▁▁▁▁▁▁▁▁▁▁▁▁▁▁▁▁▁▁▁▁▁▁▁▁▁▁▁▁▁▁▁▁▁▁▁▁▁</td></tr><tr><td>f1_score</td><td>▁▄▄▆██▇██▇</td></tr><tr><td>lr_0</td><td>▁▁▂▃▄▅▆▇▇██████▇▇▇▇▆▆▆▅▅▅▄▄▄▃▃▃▂▂▂▂▁▁▁▁▁</td></tr><tr><td>lr_1</td><td>▁▁▂▃▄▅▆▇▇██████▇▇▇▇▆▆▆▅▅▅▄▄▄▃▃▃▂▂▂▂▁▁▁▁▁</td></tr><tr><td>lr_2</td><td>▁▁▂▃▄▅▆▇▇██████▇▇▇▇▆▆▆▅▅▅▄▄▄▃▃▃▂▂▂▂▁▁▁▁▁</td></tr><tr><td>matthews_corrcoef</td><td>▁▄▅▆▇█████</td></tr><tr><td>mom_0</td><td>██▇▆▅▄▃▂▂▁▁▁▁▁▁▂▂▂▂▃▃▃▄▄▄▅▅▅▆▆▆▇▇▇▇█████</td></tr><tr><td>mom_1</td><td>██▇▆▅▄▃▂▂▁▁▁▁▁▁▂▂▂▂▃▃▃▄▄▄▅▅▅▆▆▆▇▇▇▇█████</td></tr><tr><td>mom_2</td><td>██▇▆▅▄▃▂▂▁▁▁▁▁▁▂▂▂▂▃▃▃▄▄▄▅▅▅▆▆▆▇▇▇▇█████</td></tr><tr><td>precision_score</td><td>▁▃▆▆▄▆▇▇▇█</td></tr><tr><td>raw_loss</td><td>▆█▄█▆▅▄▃▄▂▃▁▄▅▅▃▂▄▄▃▁▂▅▂▂▅▃▁▂▂▁▃▂▂▁▁▁▃▂▃</td></tr><tr><td>recall_score</td><td>▂▄▁▄█▇▅▅▅▄</td></tr><tr><td>sqr_mom_0</td><td>▁▁▁▁▁▁▁▁▁▁▁▁▁▁▁▁▁▁▁▁▁▁▁▁▁▁▁▁▁▁▁▁▁▁▁▁▁▁▁▁</td></tr><tr><td>sqr_mom_1</td><td>▁▁▁▁▁▁▁▁▁▁▁▁▁▁▁▁▁▁▁▁▁▁▁▁▁▁▁▁▁▁▁▁▁▁▁▁▁▁▁▁</td></tr><tr><td>sqr_mom_2</td><td>▁▁▁▁▁▁▁▁▁▁▁▁▁▁▁▁▁▁▁▁▁▁▁▁▁▁▁▁▁▁▁▁▁▁▁▁▁▁▁▁</td></tr><tr><td>train_loss</td><td>█▇▆▆▄▄▃▃▃▃▃▃▃▂▃▂▂▂▂▂▂▂▂▂▂▂▂▂▂▂▂▁▁▁▁▁▁▁▁▁</td></tr><tr><td>train_samples_per_sec</td><td>▆█▁▁▆▁▃█▅▆▆▁▆▂▁█▅▁▁▇▆▆▃▃▃▅▃▃▃▃▃▃▃▃▃▃▃▃▃▃</td></tr><tr><td>valid_loss</td><td>█▄▃▃▂▁▁▁▁▁</td></tr><tr><td>wd_0</td><td>▁▁▁▁▁▁▁▁▁▁▁▁▁▁▁▁▁▁▁▁▁▁▁▁▁▁▁▁▁▁▁▁▁▁▁▁▁▁▁▁</td></tr><tr><td>wd_1</td><td>▁▁▁▁▁▁▁▁▁▁▁▁▁▁▁▁▁▁▁▁▁▁▁▁▁▁▁▁▁▁▁▁▁▁▁▁▁▁▁▁</td></tr><tr><td>wd_2</td><td>▁▁▁▁▁▁▁▁▁▁▁▁▁▁▁▁▁▁▁▁▁▁▁▁▁▁▁▁▁▁▁▁▁▁▁▁▁▁▁▁</td></tr></table><br/></div><div class=\"wandb-col\"><h3>Run summary:</h3><br/><table class=\"wandb\"><tr><td>epoch</td><td>10</td></tr><tr><td>eps_0</td><td>1e-05</td></tr><tr><td>eps_1</td><td>1e-05</td></tr><tr><td>eps_2</td><td>1e-05</td></tr><tr><td>f1_score</td><td>0.83338</td></tr><tr><td>final_f1_score</td><td>0.83924</td></tr><tr><td>final_loss</td><td>0.35252</td></tr><tr><td>final_matthews_corrcoef</td><td>0.69223</td></tr><tr><td>final_precision_score</td><td>0.86077</td></tr><tr><td>final_recall_score</td><td>0.81877</td></tr><tr><td>lr_0</td><td>0.0</td></tr><tr><td>lr_1</td><td>0.0</td></tr><tr><td>lr_2</td><td>0.0</td></tr><tr><td>matthews_corrcoef</td><td>0.6898</td></tr><tr><td>mom_0</td><td>0.95</td></tr><tr><td>mom_1</td><td>0.95</td></tr><tr><td>mom_2</td><td>0.95</td></tr><tr><td>precision_score</td><td>0.87544</td></tr><tr><td>raw_loss</td><td>0.36437</td></tr><tr><td>recall_score</td><td>0.79517</td></tr><tr><td>sqr_mom_0</td><td>0.99</td></tr><tr><td>sqr_mom_1</td><td>0.99</td></tr><tr><td>sqr_mom_2</td><td>0.99</td></tr><tr><td>train_loss</td><td>0.27913</td></tr><tr><td>train_samples_per_sec</td><td>395.33212</td></tr><tr><td>valid_loss</td><td>0.35727</td></tr><tr><td>wd_0</td><td>0.01</td></tr><tr><td>wd_1</td><td>0.01</td></tr><tr><td>wd_2</td><td>0.01</td></tr></table><br/></div></div>"
      ],
      "text/plain": [
       "<IPython.core.display.HTML object>"
      ]
     },
     "metadata": {},
     "output_type": "display_data"
    },
    {
     "data": {
      "text/html": [
       " View run <strong style=\"color:#cdcd00\">fluent-meadow-59</strong> at: <a href='https://wandb.ai/iconet/cad_dl/runs/o2aq3jh4' target=\"_blank\">https://wandb.ai/iconet/cad_dl/runs/o2aq3jh4</a><br/>Synced 5 W&B file(s), 1 media file(s), 38 artifact file(s) and 0 other file(s)"
      ],
      "text/plain": [
       "<IPython.core.display.HTML object>"
      ]
     },
     "metadata": {},
     "output_type": "display_data"
    },
    {
     "data": {
      "text/html": [
       "Find logs at: <code>.\\wandb\\run-20231220_224717-o2aq3jh4\\logs</code>"
      ],
      "text/plain": [
       "<IPython.core.display.HTML object>"
      ]
     },
     "metadata": {},
     "output_type": "display_data"
    },
    {
     "name": "stdout",
     "output_type": "stream",
     "text": [
      "Create sweep with ID: g13xvd1x\n",
      "Sweep URL: https://wandb.ai/iconet/cad_dl/sweeps/g13xvd1x\n"
     ]
    },
    {
     "name": "stderr",
     "output_type": "stream",
     "text": [
      "\u001b[34m\u001b[1mwandb\u001b[0m: Agent Starting Run: 6yn7aeu4 with config:\n",
      "\u001b[34m\u001b[1mwandb\u001b[0m: \tarch: densenet121\n",
      "\u001b[34m\u001b[1mwandb\u001b[0m: \taugment: True\n",
      "\u001b[34m\u001b[1mwandb\u001b[0m: \tbatch_size: 8\n",
      "\u001b[34m\u001b[1mwandb\u001b[0m: \tepochs: 10\n",
      "\u001b[34m\u001b[1mwandb\u001b[0m: \timg_size: [256, 256]\n",
      "\u001b[34m\u001b[1mwandb\u001b[0m: \tlr: 0.00013349972056758347\n",
      "\u001b[34m\u001b[1mwandb\u001b[0m: \tpretrained: True\n",
      "\u001b[34m\u001b[1mwandb\u001b[0m: \tseed: 42\n",
      "Failed to detect the name of this notebook, you can set it manually with the WANDB_NOTEBOOK_NAME environment variable to enable code saving.\n"
     ]
    },
    {
     "name": "stdout",
     "output_type": "stream",
     "text": [
      "Training on device: cpu\n"
     ]
    },
    {
     "data": {
      "text/html": [
       "Tracking run with wandb version 0.16.1"
      ],
      "text/plain": [
       "<IPython.core.display.HTML object>"
      ]
     },
     "metadata": {},
     "output_type": "display_data"
    },
    {
     "data": {
      "text/html": [
       "Run data is saved locally in <code>c:\\Users\\Enrique\\Desktop\\Udg\\CAD\\Project\\cad_dl\\wandb\\run-20231220_231734-6yn7aeu4</code>"
      ],
      "text/plain": [
       "<IPython.core.display.HTML object>"
      ]
     },
     "metadata": {},
     "output_type": "display_data"
    },
    {
     "data": {
      "text/html": [
       "Syncing run <strong><a href='https://wandb.ai/iconet/cad_dl/runs/6yn7aeu4' target=\"_blank\">deft-sweep-1</a></strong> to <a href='https://wandb.ai/iconet/cad_dl' target=\"_blank\">Weights & Biases</a> (<a href='https://wandb.me/run' target=\"_blank\">docs</a>)<br/>Sweep page: <a href='https://wandb.ai/iconet/cad_dl/sweeps/g13xvd1x' target=\"_blank\">https://wandb.ai/iconet/cad_dl/sweeps/g13xvd1x</a>"
      ],
      "text/plain": [
       "<IPython.core.display.HTML object>"
      ]
     },
     "metadata": {},
     "output_type": "display_data"
    },
    {
     "data": {
      "text/html": [
       " View project at <a href='https://wandb.ai/iconet/cad_dl' target=\"_blank\">https://wandb.ai/iconet/cad_dl</a>"
      ],
      "text/plain": [
       "<IPython.core.display.HTML object>"
      ]
     },
     "metadata": {},
     "output_type": "display_data"
    },
    {
     "data": {
      "text/html": [
       " View sweep at <a href='https://wandb.ai/iconet/cad_dl/sweeps/g13xvd1x' target=\"_blank\">https://wandb.ai/iconet/cad_dl/sweeps/g13xvd1x</a>"
      ],
      "text/plain": [
       "<IPython.core.display.HTML object>"
      ]
     },
     "metadata": {},
     "output_type": "display_data"
    },
    {
     "data": {
      "text/html": [
       " View run at <a href='https://wandb.ai/iconet/cad_dl/runs/6yn7aeu4' target=\"_blank\">https://wandb.ai/iconet/cad_dl/runs/6yn7aeu4</a>"
      ],
      "text/plain": [
       "<IPython.core.display.HTML object>"
      ]
     },
     "metadata": {},
     "output_type": "display_data"
    },
    {
     "name": "stderr",
     "output_type": "stream",
     "text": [
      "\u001b[34m\u001b[1mwandb\u001b[0m: \u001b[33mWARNING\u001b[0m Ignored wandb.init() arg project when running a sweep.\n",
      "\u001b[34m\u001b[1mwandb\u001b[0m: \u001b[33mWARNING\u001b[0m Ignored wandb.init() arg entity when running a sweep.\n"
     ]
    },
    {
     "data": {
      "text/html": [
       "Finishing last run (ID:6yn7aeu4) before initializing another..."
      ],
      "text/plain": [
       "<IPython.core.display.HTML object>"
      ]
     },
     "metadata": {},
     "output_type": "display_data"
    },
    {
     "data": {
      "text/html": [
       " View run <strong style=\"color:#cdcd00\">deft-sweep-1</strong> at: <a href='https://wandb.ai/iconet/cad_dl/runs/6yn7aeu4' target=\"_blank\">https://wandb.ai/iconet/cad_dl/runs/6yn7aeu4</a><br/>Synced 5 W&B file(s), 0 media file(s), 0 artifact file(s) and 0 other file(s)"
      ],
      "text/plain": [
       "<IPython.core.display.HTML object>"
      ]
     },
     "metadata": {},
     "output_type": "display_data"
    },
    {
     "data": {
      "text/html": [
       "Find logs at: <code>.\\wandb\\run-20231220_231734-6yn7aeu4\\logs</code>"
      ],
      "text/plain": [
       "<IPython.core.display.HTML object>"
      ]
     },
     "metadata": {},
     "output_type": "display_data"
    },
    {
     "data": {
      "text/html": [
       "Successfully finished last run (ID:6yn7aeu4). Initializing new run:<br/>"
      ],
      "text/plain": [
       "<IPython.core.display.HTML object>"
      ]
     },
     "metadata": {},
     "output_type": "display_data"
    },
    {
     "data": {
      "text/html": [
       "Tracking run with wandb version 0.16.1"
      ],
      "text/plain": [
       "<IPython.core.display.HTML object>"
      ]
     },
     "metadata": {},
     "output_type": "display_data"
    },
    {
     "data": {
      "text/html": [
       "Run data is saved locally in <code>c:\\Users\\Enrique\\Desktop\\Udg\\CAD\\Project\\cad_dl\\wandb\\run-20231220_231735-6yn7aeu4</code>"
      ],
      "text/plain": [
       "<IPython.core.display.HTML object>"
      ]
     },
     "metadata": {},
     "output_type": "display_data"
    },
    {
     "data": {
      "text/html": [
       "Syncing run <strong><a href='https://wandb.ai/iconet/cad_dl/runs/6yn7aeu4' target=\"_blank\">deft-sweep-1</a></strong> to <a href='https://wandb.ai/iconet/cad_dl' target=\"_blank\">Weights & Biases</a> (<a href='https://wandb.me/run' target=\"_blank\">docs</a>)<br/>Sweep page: <a href='https://wandb.ai/iconet/cad_dl/sweeps/g13xvd1x' target=\"_blank\">https://wandb.ai/iconet/cad_dl/sweeps/g13xvd1x</a>"
      ],
      "text/plain": [
       "<IPython.core.display.HTML object>"
      ]
     },
     "metadata": {},
     "output_type": "display_data"
    },
    {
     "data": {
      "text/html": [
       " View project at <a href='https://wandb.ai/iconet/cad_dl' target=\"_blank\">https://wandb.ai/iconet/cad_dl</a>"
      ],
      "text/plain": [
       "<IPython.core.display.HTML object>"
      ]
     },
     "metadata": {},
     "output_type": "display_data"
    },
    {
     "data": {
      "text/html": [
       " View sweep at <a href='https://wandb.ai/iconet/cad_dl/sweeps/g13xvd1x' target=\"_blank\">https://wandb.ai/iconet/cad_dl/sweeps/g13xvd1x</a>"
      ],
      "text/plain": [
       "<IPython.core.display.HTML object>"
      ]
     },
     "metadata": {},
     "output_type": "display_data"
    },
    {
     "data": {
      "text/html": [
       " View run at <a href='https://wandb.ai/iconet/cad_dl/runs/6yn7aeu4' target=\"_blank\">https://wandb.ai/iconet/cad_dl/runs/6yn7aeu4</a>"
      ],
      "text/plain": [
       "<IPython.core.display.HTML object>"
      ]
     },
     "metadata": {},
     "output_type": "display_data"
    },
    {
     "name": "stderr",
     "output_type": "stream",
     "text": [
      "Traceback (most recent call last):\n",
      "  File \"C:\\Users\\Enrique\\AppData\\Local\\Temp\\ipykernel_17344\\2963267710.py\", line 69, in train\n",
      "    dls = get_data(df, bs=config.batch_size, img_size=config.img_size, augment=config.augment)\n",
      "          ^^^^^^^^^^^^^^^^^^^^^^^^^^^^^^^^^^^^^^^^^^^^^^^^^^^^^^^^^^^^^^^^^^^^^^^^^^^^^^^^^^^^\n",
      "  File \"C:\\Users\\Enrique\\AppData\\Local\\Temp\\ipykernel_17344\\2963267710.py\", line 42, in get_data\n",
      "    return block.dataloaders(df, bs=bs)\n",
      "           ^^^^^^^^^^^^^^^^^^^^^^^^^^^^\n",
      "  File \"c:\\Users\\Enrique\\Desktop\\Udg\\CAD\\Project\\cad_dl\\.venv\\Lib\\site-packages\\fastai\\data\\block.py\", line 157, in dataloaders\n",
      "    return dsets.dataloaders(path=path, after_item=self.item_tfms, after_batch=self.batch_tfms, **kwargs)\n",
      "           ^^^^^^^^^^^^^^^^^^^^^^^^^^^^^^^^^^^^^^^^^^^^^^^^^^^^^^^^^^^^^^^^^^^^^^^^^^^^^^^^^^^^^^^^^^^^^^\n",
      "  File \"c:\\Users\\Enrique\\Desktop\\Udg\\CAD\\Project\\cad_dl\\.venv\\Lib\\site-packages\\fastai\\data\\core.py\", line 337, in dataloaders\n",
      "    dls = [dl] + [dl.new(self.subset(i), **merge(kwargs,def_kwargs,val_kwargs,dl_kwargs[i]))\n",
      "                 ^^^^^^^^^^^^^^^^^^^^^^^^^^^^^^^^^^^^^^^^^^^^^^^^^^^^^^^^^^^^^^^^^^^^^^^^^^^\n",
      "  File \"c:\\Users\\Enrique\\Desktop\\Udg\\CAD\\Project\\cad_dl\\.venv\\Lib\\site-packages\\fastai\\data\\core.py\", line 337, in <listcomp>\n",
      "    dls = [dl] + [dl.new(self.subset(i), **merge(kwargs,def_kwargs,val_kwargs,dl_kwargs[i]))\n",
      "                  ^^^^^^^^^^^^^^^^^^^^^^^^^^^^^^^^^^^^^^^^^^^^^^^^^^^^^^^^^^^^^^^^^^^^^^^^^^\n",
      "  File \"c:\\Users\\Enrique\\Desktop\\Udg\\CAD\\Project\\cad_dl\\.venv\\Lib\\site-packages\\fastai\\data\\core.py\", line 97, in new\n",
      "    self._one_pass()\n",
      "  File \"c:\\Users\\Enrique\\Desktop\\Udg\\CAD\\Project\\cad_dl\\.venv\\Lib\\site-packages\\fastai\\data\\core.py\", line 80, in _one_pass\n",
      "    its = self.after_batch(b)\n",
      "          ^^^^^^^^^^^^^^^^^^^\n",
      "  File \"c:\\Users\\Enrique\\Desktop\\Udg\\CAD\\Project\\cad_dl\\.venv\\Lib\\site-packages\\fastcore\\transform.py\", line 208, in __call__\n",
      "    def __call__(self, o): return compose_tfms(o, tfms=self.fs, split_idx=self.split_idx)\n",
      "                                  ^^^^^^^^^^^^^^^^^^^^^^^^^^^^^^^^^^^^^^^^^^^^^^^^^^^^^^^\n",
      "  File \"c:\\Users\\Enrique\\Desktop\\Udg\\CAD\\Project\\cad_dl\\.venv\\Lib\\site-packages\\fastcore\\transform.py\", line 158, in compose_tfms\n",
      "    x = f(x, **kwargs)\n",
      "        ^^^^^^^^^^^^^^\n",
      "  File \"c:\\Users\\Enrique\\Desktop\\Udg\\CAD\\Project\\cad_dl\\.venv\\Lib\\site-packages\\fastcore\\transform.py\", line 81, in __call__\n",
      "    def __call__(self, x, **kwargs): return self._call('encodes', x, **kwargs)\n",
      "                                            ^^^^^^^^^^^^^^^^^^^^^^^^^^^^^^^^^^\n",
      "  File \"c:\\Users\\Enrique\\Desktop\\Udg\\CAD\\Project\\cad_dl\\.venv\\Lib\\site-packages\\fastcore\\transform.py\", line 91, in _call\n",
      "    return self._do_call(getattr(self, fn), x, **kwargs)\n",
      "           ^^^^^^^^^^^^^^^^^^^^^^^^^^^^^^^^^^^^^^^^^^^^^\n",
      "  File \"c:\\Users\\Enrique\\Desktop\\Udg\\CAD\\Project\\cad_dl\\.venv\\Lib\\site-packages\\fastcore\\transform.py\", line 98, in _do_call\n",
      "    res = tuple(self._do_call(f, x_, **kwargs) for x_ in x)\n",
      "          ^^^^^^^^^^^^^^^^^^^^^^^^^^^^^^^^^^^^^^^^^^^^^^^^^\n",
      "  File \"c:\\Users\\Enrique\\Desktop\\Udg\\CAD\\Project\\cad_dl\\.venv\\Lib\\site-packages\\fastcore\\transform.py\", line 98, in <genexpr>\n",
      "    res = tuple(self._do_call(f, x_, **kwargs) for x_ in x)\n",
      "                ^^^^^^^^^^^^^^^^^^^^^^^^^^^^^^\n",
      "  File \"c:\\Users\\Enrique\\Desktop\\Udg\\CAD\\Project\\cad_dl\\.venv\\Lib\\site-packages\\fastcore\\transform.py\", line 97, in _do_call\n",
      "    return retain_type(f(x, **kwargs), x, ret)\n",
      "                       ^^^^^^^^^^^^^^\n",
      "  File \"c:\\Users\\Enrique\\Desktop\\Udg\\CAD\\Project\\cad_dl\\.venv\\Lib\\site-packages\\fastcore\\dispatch.py\", line 120, in __call__\n",
      "    return f(*args, **kwargs)\n",
      "           ^^^^^^^^^^^^^^^^^^\n",
      "TypeError: 'list' object is not callable\n",
      "\u001b[34m\u001b[1mwandb\u001b[0m: \u001b[32m\u001b[41mERROR\u001b[0m Run 6yn7aeu4 errored: TypeError(\"'list' object is not callable\")\n"
     ]
    },
    {
     "name": "stdout",
     "output_type": "stream",
     "text": [
      "Could not do one pass in your dataloader, there is something wrong in it. Please see the stack trace below:\n"
     ]
    },
    {
     "name": "stderr",
     "output_type": "stream",
     "text": [
      "\u001b[34m\u001b[1mwandb\u001b[0m: Sweep Agent: Waiting for job.\n",
      "\u001b[34m\u001b[1mwandb\u001b[0m: Job received.\n"
     ]
    }
   ],
   "source": [
    "train_config = SimpleNamespace(\n",
    "    framework=\"fastai\",\n",
    "    img_size=(128, 128),\n",
    "    batch_size=32,\n",
    "    augment=None, # use data augmentation\n",
    "    epochs=10,\n",
    "    lr=2e-3,\n",
    "    arch=\"resnet50\",\n",
    "    pretrained=True,  # whether to use pretrained encoder\n",
    "    seed=42,\n",
    ")\n",
    "\n",
    "set_seed(train_config.seed, reproducible=True)\n",
    "\n",
    "run = wandb.init(project=WANDB_PROJECT, entity=ENTITY, job_type=\"training\", config=train_config)\n",
    "df = get_df(processed_dataset_dir, is_test = False)\n",
    "\n",
    "# Apply the function to create a new column with the correct paths\n",
    "df[\"image_fname\"] = df[\"File_Name\"].apply(find_image_path)\n",
    "config = wandb.config\n",
    "dls = get_data(df, bs=config.batch_size, img_size=config.img_size, augment=config.augment)\n",
    "\n",
    "train(train_config)\n",
    "\n",
    "sweep_config = {\n",
    "    'method': 'bayes',\n",
    "    'name': 'sweep',\n",
    "    'metric': {\n",
    "        'goal': 'maximize',\n",
    "        'name': 'f1_score'\n",
    "        },\n",
    "    'parameters': {\n",
    "        'batch_size': {'values': [8, 32]},\n",
    "        'epochs': {'values': [10, 15]},\n",
    "        'lr': {\n",
    "            'distribution': 'log_uniform_values',\n",
    "            'max': 1e-2,\n",
    "            'min': 1e-5\n",
    "        },\n",
    "        'augment': {'value': 'True'},\n",
    "        'pretrained': {'value': 'True'},\n",
    "        'img_size': {'value': (256, 256)},\n",
    "        'seed': {'values': [42]},\n",
    "        'arch': {\n",
    "            'values': ['densenet121', 'densenet161', 'densenet169','densenet201']\n",
    "            }\n",
    "        },\n",
    "    'early_terminate': {\n",
    "        'type': 'hyperband',\n",
    "        'min_iter': 3\n",
    "    }\n",
    "}\n",
    "\n",
    "sweep_id = wandb.sweep(sweep_config, project=WANDB_PROJECT)\n",
    "\n",
    "wandb.agent(sweep_id, train)"
   ]
  },
  {
   "cell_type": "code",
   "execution_count": null,
   "metadata": {},
   "outputs": [],
   "source": [
    "wandb sweep --resume iconet/cad_dl/sweeps/g13xvd1x"
   ]
  }
 ],
 "metadata": {
  "kernelspec": {
   "display_name": ".venv",
   "language": "python",
   "name": "python3"
  },
  "language_info": {
   "codemirror_mode": {
    "name": "ipython",
    "version": 3
   },
   "file_extension": ".py",
   "mimetype": "text/x-python",
   "name": "python",
   "nbconvert_exporter": "python",
   "pygments_lexer": "ipython3",
   "version": "3.11.6"
  }
 },
 "nbformat": 4,
 "nbformat_minor": 2
}
